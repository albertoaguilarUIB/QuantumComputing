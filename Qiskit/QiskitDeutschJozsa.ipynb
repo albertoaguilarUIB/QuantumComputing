{
 "cells": [
  {
   "cell_type": "markdown",
   "metadata": {
    "collapsed": true
   },
   "source": [
    "In this notebook, we implement the Deutsch-Jozsa algorithm using Qiskit. Recall that the algorithm is figuring out whether a given binary function\n",
    "$$\n",
    "f \\colon \\{0,1\\}^n \\rightarrow \\{0,1\\}\n",
    "$$\n",
    "is balanced or constant. So let us first choose a reasonably simple function f and implement the corresponding oracle. Basically the easiest choice is probably $n = 2$ and\n",
    "$$\n",
    "f(x_0, x_1) = x_0 \\oplus x_1\n",
    "$$\n",
    "What is the oracle $U_f$? The oracle is specified by\n",
    "$$\n",
    "U_f |x \\rangle |y \\rangle = |x \\rangle |y \\oplus f(x) \\rangle\n",
    "$$\n",
    "So the third qubit is inverted if f is equal to one and left unchanged otherwise. Using the definition of f, we see that the third qubit is inverted if the first two qubits are different and left unchanged if they are equal.\n",
    "This is easily implemented using two CNOT gates"
   ]
  },
  {
   "cell_type": "code",
   "execution_count": 1,
   "metadata": {
    "collapsed": true
   },
   "outputs": [],
   "source": [
    "from qiskit import QuantumRegister, QuantumCircuit, ClassicalRegister\n",
    "from qiskit.tools.visualization import matplotlib_circuit_drawer as drawer\n",
    "from qiskit.tools.visualization import plot_histogram\n",
    "from qiskit import Aer\n",
    "from qiskit import compile, execute\n",
    "from qiskit import IBMQ\n",
    "import numpy as np\n",
    "%matplotlib inline\n",
    "my_style = {'cregbundle': True}"
   ]
  },
  {
   "cell_type": "code",
   "execution_count": 2,
   "metadata": {
    "collapsed": true
   },
   "outputs": [],
   "source": [
    "#####################################\n",
    "# Create the oracle. We assume that #\n",
    "# our quantum register has three    #\n",
    "# qubits.                           #\n",
    "#####################################\n",
    "def createOracleBalanced(q,c):\n",
    "    circuit = QuantumCircuit(q,c)\n",
    "    circuit.cx(q[0], q[2])\n",
    "    circuit.cx(q[1], q[2])\n",
    "    circuit.barrier(q)\n",
    "    return circuit\n",
    "\n",
    "\n",
    "\n",
    "#####################################\n",
    "# Create a constant oracle          #\n",
    "#####################################\n",
    "def createOracleConstant(q,c):\n",
    "    circuit = QuantumCircuit(q,c)\n",
    "    circuit.x(q[2])\n",
    "    circuit.barrier(q)\n",
    "    return circuit"
   ]
  },
  {
   "cell_type": "code",
   "execution_count": 3,
   "metadata": {},
   "outputs": [
    {
     "data": {
      "image/png": "[encoded data removed]",
      "text/plain": [
       "<Figure size 301x258.86 with 1 Axes>"
      ]
     },
     "metadata": {},
     "output_type": "display_data"
    }
   ],
   "source": [
    "#\n",
    "# Try it out\n",
    "#\n",
    "q = QuantumRegister(3,\"q\")\n",
    "c = ClassicalRegister(3,\"c\")\n",
    "circuit = createOracleBalanced(q,c)\n",
    "drawer(circuit, style = my_style)"
   ]
  },
  {
   "cell_type": "code",
   "execution_count": 4,
   "metadata": {},
   "outputs": [
    {
     "name": "stdout",
     "output_type": "stream",
     "text": [
      "| 000 > --->> | 000 >\n",
      "| 001 > --->> | 101 >\n",
      "| 010 > --->> | 110 >\n",
      "| 011 > --->> | 011 >\n"
     ]
    }
   ],
   "source": [
    "backend = Aer.get_backend('unitary_simulator') \n",
    "job = execute(circuit, backend)\n",
    "#\n",
    "# Print this as truth table\n",
    "# \n",
    "for i in range(2**2):\n",
    "    out = job.result().get_unitary()\n",
    "    print(\"|\", format(i, '03b'),\"> --->> |\", format(np.argmax(out.T[i]), '03b'),\">\")"
   ]
  },
  {
   "cell_type": "markdown",
   "metadata": {},
   "source": [
    "Now we get to the actual Deutsch-Jozsa algorithm. We use the version of the algorithm described in https://arxiv.org/abs/quant-ph/9708016. Here, the first step is to create the usual superposition state\n",
    "$$\n",
    "|\\psi \\rangle = \\frac{1}{2} \\sum_x |x \\rangle\n",
    "$$\n",
    "We know how to do this - we start with the fiducial state and apply a Hadamard gate to every qubit."
   ]
  },
  {
   "cell_type": "code",
   "execution_count": 5,
   "metadata": {},
   "outputs": [
    {
     "data": {
      "image/png": "[encoded data removed]",
      "text/plain": [
       "<Figure size 240.8x258.86 with 1 Axes>"
      ]
     },
     "metadata": {},
     "output_type": "display_data"
    }
   ],
   "source": [
    "def createInitialState(circuit):\n",
    "    circuit.h(q[0])\n",
    "    circuit.h(q[1])\n",
    "    circuit.barrier(q)\n",
    "\n",
    "    \n",
    "q = QuantumRegister(3,\"q\")\n",
    "c = ClassicalRegister(3,\"c\")\n",
    "circuit = QuantumCircuit(q,c)\n",
    "createInitialState(circuit)\n",
    "drawer(circuit, style = my_style)"
   ]
  },
  {
   "cell_type": "markdown",
   "metadata": {},
   "source": [
    "Next, we add an ancilla qubit that we initialize to one and apply the Hadamard to this ancilla qubit. The result will be the state\n",
    "$$\n",
    "|\\psi \\rangle = \\frac{1}{2\\sqrt{2}} \\sum_x  |x , 0 \\rangle - |x, 1 \\rangle \n",
    "$$"
   ]
  },
  {
   "cell_type": "code",
   "execution_count": 6,
   "metadata": {},
   "outputs": [
    {
     "data": {
      "image/png": "[encoded data removed]",
      "text/plain": [
       "<Figure size 361.2x258.86 with 1 Axes>"
      ]
     },
     "metadata": {},
     "output_type": "display_data"
    }
   ],
   "source": [
    "def addAncilla(circuit):\n",
    "    circuit.x(q[2])\n",
    "    circuit.h(q[2])\n",
    "    circuit.barrier(q)\n",
    "\n",
    "addAncilla(circuit)\n",
    "drawer(circuit, style = my_style)"
   ]
  },
  {
   "cell_type": "markdown",
   "metadata": {},
   "source": [
    "Next we add $U_f$ to the circuit. This will result in the state\n",
    "$$\n",
    "\\frac{1}{\\sqrt{2^n}}  (\\sum_x (-1)^{f(x)} |x\\rangle) \\otimes H|1\\rangle   \n",
    "$$"
   ]
  },
  {
   "cell_type": "code",
   "execution_count": 7,
   "metadata": {},
   "outputs": [
    {
     "data": {
      "image/png": "[encoded data removed]",
      "text/plain": [
       "<Figure size 481.6x258.86 with 1 Axes>"
      ]
     },
     "metadata": {},
     "output_type": "display_data"
    }
   ],
   "source": [
    "circuit = circuit + (createOracleBalanced(q,c))\n",
    "circuit.barrier(q)\n",
    "drawer(circuit, style = my_style)"
   ]
  },
  {
   "cell_type": "markdown",
   "metadata": {},
   "source": [
    "Next, we uncompute the ancillary qubit - we apply another Hadamard followed by a Pauli X gate. This will give us the state\n",
    "$$\n",
    "\\frac{1}{\\sqrt{2^n}}  (\\sum_x (-1)^{f(x)} |x\\rangle) \\otimes |0\\rangle   \n",
    "$$"
   ]
  },
  {
   "cell_type": "code",
   "execution_count": 8,
   "metadata": {},
   "outputs": [
    {
     "data": {
      "image/png": "[encoded data removed]",
      "text/plain": [
       "<Figure size 602x258.86 with 1 Axes>"
      ]
     },
     "metadata": {},
     "output_type": "display_data"
    }
   ],
   "source": [
    "def uncomputeAncilla(circuit):\n",
    "    circuit.h(q[2])\n",
    "    circuit.x(q[2])\n",
    "    circuit.barrier(q)\n",
    "    \n",
    "uncomputeAncilla(circuit)\n",
    "drawer(circuit, style = my_style)"
   ]
  },
  {
   "cell_type": "markdown",
   "metadata": {},
   "source": [
    "Finally, to return to the standard basis, we apply Hadamard gates on the first two qubits. We then measure the result."
   ]
  },
  {
   "cell_type": "code",
   "execution_count": 9,
   "metadata": {},
   "outputs": [
    {
     "data": {
      "image/png": "[encoded data removed]",
      "text/plain": [
       "<Figure size 782.6x258.86 with 1 Axes>"
      ]
     },
     "metadata": {},
     "output_type": "display_data"
    }
   ],
   "source": [
    "def addMeasurement(circuit):\n",
    "    circuit.h(q[0])\n",
    "    circuit.h(q[1])\n",
    "    circuit.barrier(q)\n",
    "    circuit.measure(q[0], c[0])\n",
    "    circuit.measure(q[1], c[1])\n",
    "    circuit.barrier(q)\n",
    "    \n",
    "addMeasurement(circuit)\n",
    "drawer(circuit, style = my_style)"
   ]
  },
  {
   "cell_type": "code",
   "execution_count": 10,
   "metadata": {},
   "outputs": [
    {
     "name": "stdout",
     "output_type": "stream",
     "text": [
      "Status of backend:  {'pending_jobs': 8, 'name': 'ibmqx4', 'operational': True}\n"
     ]
    }
   ],
   "source": [
    "#\n",
    "# Now we are ready to execute the full circuit\n",
    "#\n",
    "IBMQ.load_accounts()\n",
    "backend = IBMQ.get_backend('ibmqx4') \n",
    "#backend = IBMQ.get_backend('ibmq_16_melbourne') \n",
    "#backend = IBMQ.get_backend('ibmq_qasm_simulator') \n",
    "#backend = Aer.get_backend(\"qasm_simulator\")\n",
    "print(\"Status of backend: \", backend.status())\n",
    "#\n",
    "# Now we compile\n",
    "#\n",
    "from qiskit import compile\n",
    "qobj = compile(circuit, backend=backend, shots=1024)\n",
    "#\n",
    "# and submit as a job\n",
    "#\n",
    "job = backend.run(qobj)"
   ]
  },
  {
   "cell_type": "code",
   "execution_count": 11,
   "metadata": {},
   "outputs": [
    {
     "name": "stdout",
     "output_type": "stream",
     "text": [
      "Status @ 0 seconds\n",
      "JobStatus.INITIALIZING\n",
      "Position in queue:  None\n",
      "Status @ 60 seconds\n",
      "JobStatus.QUEUED\n",
      "Position in queue:  7\n",
      "Status @ 120 seconds\n",
      "JobStatus.QUEUED\n",
      "Position in queue:  4\n",
      "Status @ 180 seconds\n",
      "JobStatus.QUEUED\n",
      "Position in queue:  4\n",
      "Status @ 240 seconds\n",
      "JobStatus.QUEUED\n",
      "Position in queue:  3\n",
      "Status @ 300 seconds\n",
      "JobStatus.RUNNING\n",
      "Position in queue:  0\n",
      "JobStatus.DONE\n"
     ]
    }
   ],
   "source": [
    "import time\n",
    "lapse = 0\n",
    "#\n",
    "# Wait three seconds once, this should be good enough for the simulator in most cases\n",
    "#\n",
    "time.sleep(3)\n",
    "interval = 60\n",
    "while (job.status().name != 'DONE') and (job.status().name != 'CANCELLED') and (job.status().name != 'ERROR'):\n",
    "    print('Status @ {} seconds'.format(interval * lapse))\n",
    "    print(job.status())\n",
    "    print(\"Position in queue: \",job.queue_position())\n",
    "    time.sleep(interval)\n",
    "    lapse += 1\n",
    "print(job.status())"
   ]
  },
  {
   "cell_type": "code",
   "execution_count": 12,
   "metadata": {},
   "outputs": [
    {
     "data": {
      "text/plain": [
       "{'000': 72, '001': 133, '010': 113, '011': 706}"
      ]
     },
     "execution_count": 12,
     "metadata": {},
     "output_type": "execute_result"
    }
   ],
   "source": [
    "result = job.result()\n",
    "counts = result.get_counts()\n",
    "counts"
   ]
  },
  {
   "cell_type": "code",
   "execution_count": 13,
   "metadata": {},
   "outputs": [
    {
     "data": {
      "image/png": "[encoded data removed]",
      "text/plain": [
       "<Figure size 432x288 with 1 Axes>"
      ]
     },
     "metadata": {},
     "output_type": "display_data"
    }
   ],
   "source": [
    "#\n",
    "# Plot this\n",
    "#\n",
    "plot_histogram(counts)"
   ]
  },
  {
   "cell_type": "markdown",
   "metadata": {},
   "source": [
    "Finally let us interpret the result. We know that there are two cases. If the function is balanced, the probability to measure 00 is zero. If the function is not balanced, it will be one. "
   ]
  },
  {
   "cell_type": "code",
   "execution_count": 14,
   "metadata": {},
   "outputs": [
    {
     "name": "stdout",
     "output_type": "stream",
     "text": [
      "Function is balanced\n"
     ]
    }
   ],
   "source": [
    "if '000' in counts:\n",
    "    zeroMeasurements = counts['000']\n",
    "else:\n",
    "    zeroMeasurements = 0\n",
    "if (zeroMeasurements < 100):\n",
    "    print(\"Function is balanced\")\n",
    "else:\n",
    "    print(\"Function is constant\")"
   ]
  },
  {
   "cell_type": "markdown",
   "metadata": {},
   "source": [
    "Now we repeat the entire exercise with a constant function."
   ]
  },
  {
   "cell_type": "code",
   "execution_count": 15,
   "metadata": {},
   "outputs": [
    {
     "data": {
      "image/png": "[encoded data removed]",
      "text/plain": [
       "<Figure size 722.4x258.86 with 1 Axes>"
      ]
     },
     "metadata": {},
     "output_type": "display_data"
    }
   ],
   "source": [
    "q = QuantumRegister(3,\"q\")\n",
    "c = ClassicalRegister(3,\"c\")\n",
    "circuit = QuantumCircuit(q,c)\n",
    "createInitialState(circuit)\n",
    "addAncilla(circuit)\n",
    "circuit = circuit + (createOracleConstant(q,c))\n",
    "uncomputeAncilla(circuit)\n",
    "addMeasurement(circuit)\n",
    "drawer(circuit, style = my_style)"
   ]
  },
  {
   "cell_type": "code",
   "execution_count": 16,
   "metadata": {
    "collapsed": true
   },
   "outputs": [],
   "source": [
    "qobj = compile(circuit, backend=backend, shots=1024)\n",
    "job = backend.run(qobj)"
   ]
  },
  {
   "cell_type": "code",
   "execution_count": 17,
   "metadata": {},
   "outputs": [
    {
     "name": "stdout",
     "output_type": "stream",
     "text": [
      "Status @ 0 seconds\n",
      "JobStatus.QUEUED\n",
      "Position in queue:  6\n",
      "Status @ 60 seconds\n",
      "JobStatus.QUEUED\n",
      "Position in queue:  5\n",
      "Status @ 120 seconds\n",
      "JobStatus.QUEUED\n",
      "Position in queue:  4\n",
      "Status @ 180 seconds\n",
      "JobStatus.QUEUED\n",
      "Position in queue:  1\n",
      "JobStatus.DONE\n"
     ]
    }
   ],
   "source": [
    "import time\n",
    "lapse = 0\n",
    "#\n",
    "# Wait three seconds once, this should be good enough for the simulator in most cases\n",
    "#\n",
    "time.sleep(3)\n",
    "interval = 60\n",
    "while (job.status().name != 'DONE') and (job.status().name != 'CANCELLED') and (job.status().name != 'ERROR'):\n",
    "    print('Status @ {} seconds'.format(interval * lapse))\n",
    "    print(job.status())\n",
    "    print(\"Position in queue: \",job.queue_position())\n",
    "    time.sleep(interval)\n",
    "    lapse += 1\n",
    "print(job.status())"
   ]
  },
  {
   "cell_type": "code",
   "execution_count": 18,
   "metadata": {},
   "outputs": [
    {
     "data": {
      "text/plain": [
       "{'000': 930, '001': 46, '010': 45, '011': 3}"
      ]
     },
     "execution_count": 18,
     "metadata": {},
     "output_type": "execute_result"
    }
   ],
   "source": [
    "result = job.result()\n",
    "counts = result.get_counts()\n",
    "counts"
   ]
  },
  {
   "cell_type": "code",
   "execution_count": 19,
   "metadata": {},
   "outputs": [
    {
     "name": "stdout",
     "output_type": "stream",
     "text": [
      "Function is constant\n"
     ]
    }
   ],
   "source": [
    "if '000' in counts:\n",
    "    zeroMeasurements = counts['000']\n",
    "else:\n",
    "    zeroMeasurements = 0\n",
    "if (zeroMeasurements < 100):\n",
    "    print(\"Function is balanced\")\n",
    "else:\n",
    "    print(\"Function is constant\")"
   ]
  },
  {
   "cell_type": "code",
   "execution_count": 20,
   "metadata": {},
   "outputs": [
    {
     "data": {
      "image/png": "[encoded data removed]",
      "text/plain": [
       "<Figure size 432x288 with 1 Axes>"
      ]
     },
     "metadata": {},
     "output_type": "display_data"
    }
   ],
   "source": [
    "plot_histogram(counts)"
   ]
  },
  {
   "cell_type": "code",
   "execution_count": null,
   "metadata": {
    "collapsed": true
   },
   "outputs": [],
   "source": []
  }
 ],
 "metadata": {
  "kernelspec": {
   "display_name": "Python 3",
   "language": "python",
   "name": "python3"
  },
  "language_info": {
   "codemirror_mode": {
    "name": "ipython",
    "version": 3
   },
   "file_extension": ".py",
   "mimetype": "text/x-python",
   "name": "python",
   "nbconvert_exporter": "python",
   "pygments_lexer": "ipython3",
   "version": "3.6.2"
  }
 },
 "nbformat": 4,
 "nbformat_minor": 2
}
