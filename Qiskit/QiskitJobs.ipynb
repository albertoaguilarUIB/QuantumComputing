{
 "cells": [
  {
   "cell_type": "code",
   "execution_count": 1,
   "metadata": {},
   "outputs": [],
   "source": [
    "from qiskit import IBMQ\n",
    "IBMQ.load_accounts()"
   ]
  },
  {
   "cell_type": "code",
   "execution_count": 36,
   "metadata": {},
   "outputs": [
    {
     "data": {
      "text/plain": [
       "[<IBMQBackend('ibmqx4') from IBMQ()>,\n",
       " <IBMQBackend('ibmqx5') from IBMQ()>,\n",
       " <IBMQBackend('ibmqx2') from IBMQ()>,\n",
       " <IBMQBackend('ibmq_16_melbourne') from IBMQ()>,\n",
       " <IBMQBackend('ibmq_qasm_simulator') from IBMQ()>]"
      ]
     },
     "execution_count": 36,
     "metadata": {},
     "output_type": "execute_result"
    }
   ],
   "source": [
    "IBMQ.backends()"
   ]
  },
  {
   "cell_type": "code",
   "execution_count": 6,
   "metadata": {},
   "outputs": [
    {
     "name": "stdout",
     "output_type": "stream",
     "text": [
      "Status of backend:  {'pending_jobs': 4, 'name': 'ibmq_16_melbourne', 'operational': True}\n"
     ]
    }
   ],
   "source": [
    "backend = IBMQ.get_backend('ibmq_16_melbourne') \n",
    "print(\"Status of backend: \", backend.status())"
   ]
  },
  {
   "cell_type": "code",
   "execution_count": 5,
   "metadata": {},
   "outputs": [
    {
     "data": {
      "text/plain": [
       "{'allow_q_object': False,\n",
       " 'basis_gates': 'u1,u2,u3,cx,id',\n",
       " 'chip_name': 'Albatross',\n",
       " 'coupling_map': [[1, 0],\n",
       "  [1, 2],\n",
       "  [2, 3],\n",
       "  [4, 3],\n",
       "  [4, 10],\n",
       "  [5, 4],\n",
       "  [5, 6],\n",
       "  [5, 9],\n",
       "  [6, 8],\n",
       "  [7, 8],\n",
       "  [9, 8],\n",
       "  [9, 10],\n",
       "  [11, 3],\n",
       "  [11, 10],\n",
       "  [11, 12],\n",
       "  [12, 2],\n",
       "  [13, 1],\n",
       "  [13, 12]],\n",
       " 'deleted': False,\n",
       " 'description': '16 transmon 2x8 ladder',\n",
       " 'internal_id': '5ba502d0986f16003ea56c87',\n",
       " 'local': False,\n",
       " 'n_qubits': 14,\n",
       " 'name': 'ibmq_16_melbourne',\n",
       " 'online_date': '2018-09-07T00:00:00.000Z',\n",
       " 'simulator': False,\n",
       " 'url': 'https://ibm.biz/qiskit-ibmq_16_melbourne',\n",
       " 'version': '1.0.0'}"
      ]
     },
     "execution_count": 5,
     "metadata": {},
     "output_type": "execute_result"
    }
   ],
   "source": [
    "backend.configuration()"
   ]
  },
  {
   "cell_type": "code",
   "execution_count": 51,
   "metadata": {},
   "outputs": [
    {
     "data": {
      "text/plain": [
       "[{'gateError': {'date': '2018-11-12T08:58:01Z', 'value': 0.049950862781259764},\n",
       "  'name': 'CX1_0',\n",
       "  'qubits': [1, 0],\n",
       "  'type': 'CX'},\n",
       " {'gateError': {'date': '2018-11-12T08:58:01Z', 'value': 0.035535247028390726},\n",
       "  'name': 'CX1_2',\n",
       "  'qubits': [1, 2],\n",
       "  'type': 'CX'},\n",
       " {'gateError': {'date': '2018-11-12T08:58:01Z', 'value': 0.045072537731023155},\n",
       "  'name': 'CX2_3',\n",
       "  'qubits': [2, 3],\n",
       "  'type': 'CX'},\n",
       " {'gateError': {'date': '2018-11-12T08:58:01Z', 'value': 0.05979169273501675},\n",
       "  'name': 'CX4_3',\n",
       "  'qubits': [4, 3],\n",
       "  'type': 'CX'},\n",
       " {'gateError': {'date': '2018-11-12T08:58:01Z', 'value': 0.0341980703011775},\n",
       "  'name': 'CX4_10',\n",
       "  'qubits': [4, 10],\n",
       "  'type': 'CX'},\n",
       " {'gateError': {'date': '2018-11-12T08:58:01Z', 'value': 0.06117060843491484},\n",
       "  'name': 'CX5_4',\n",
       "  'qubits': [5, 4],\n",
       "  'type': 'CX'},\n",
       " {'gateError': {'date': '2018-11-12T08:58:01Z', 'value': 0.1574825203327177},\n",
       "  'name': 'CX5_6',\n",
       "  'qubits': [5, 6],\n",
       "  'type': 'CX'},\n",
       " {'gateError': {'date': '2018-11-12T08:58:01Z', 'value': 0.10506872477813403},\n",
       "  'name': 'CX5_9',\n",
       "  'qubits': [5, 9],\n",
       "  'type': 'CX'},\n",
       " {'gateError': {'date': '2018-11-12T08:58:01Z', 'value': 0.4992040664691374},\n",
       "  'name': 'CX6_8',\n",
       "  'qubits': [6, 8],\n",
       "  'type': 'CX'},\n",
       " {'gateError': {'date': '2018-11-12T08:58:01Z', 'value': 0.3669761543583111},\n",
       "  'name': 'CX7_8',\n",
       "  'qubits': [7, 8],\n",
       "  'type': 'CX'},\n",
       " {'gateError': {'date': '2018-11-12T08:58:01Z', 'value': 0.032079743857787224},\n",
       "  'name': 'CX9_8',\n",
       "  'qubits': [9, 8],\n",
       "  'type': 'CX'},\n",
       " {'gateError': {'date': '2018-11-12T08:58:01Z', 'value': 0.04118194905522454},\n",
       "  'name': 'CX9_10',\n",
       "  'qubits': [9, 10],\n",
       "  'type': 'CX'},\n",
       " {'gateError': {'date': '2018-11-12T08:58:01Z', 'value': 0.0698613198683852},\n",
       "  'name': 'CX11_10',\n",
       "  'qubits': [11, 10],\n",
       "  'type': 'CX'},\n",
       " {'gateError': {'date': '2018-11-12T08:58:01Z', 'value': 0.04256103020240368},\n",
       "  'name': 'CX11_12',\n",
       "  'qubits': [11, 12],\n",
       "  'type': 'CX'},\n",
       " {'gateError': {'date': '2018-11-12T08:58:01Z', 'value': 0.037709618259126415},\n",
       "  'name': 'CX11_3',\n",
       "  'qubits': [11, 3],\n",
       "  'type': 'CX'},\n",
       " {'gateError': {'date': '2018-11-12T08:58:01Z', 'value': 0.10494582498861216},\n",
       "  'name': 'CX12_2',\n",
       "  'qubits': [12, 2],\n",
       "  'type': 'CX'},\n",
       " {'gateError': {'date': '2018-11-12T08:58:01Z', 'value': 0.279583147401079},\n",
       "  'name': 'CX13_1',\n",
       "  'qubits': [13, 1],\n",
       "  'type': 'CX'},\n",
       " {'gateError': {'date': '2018-11-12T08:58:01Z', 'value': 0.046418530604712654},\n",
       "  'name': 'CX13_12',\n",
       "  'qubits': [13, 12],\n",
       "  'type': 'CX'}]"
      ]
     },
     "execution_count": 51,
     "metadata": {},
     "output_type": "execute_result"
    }
   ],
   "source": [
    "backend.properties()['multi_qubit_gates']"
   ]
  },
  {
   "cell_type": "code",
   "execution_count": 7,
   "metadata": {},
   "outputs": [
    {
     "name": "stdout",
     "output_type": "stream",
     "text": [
      "Job ID =  5be97ddca8a14500522c4fcc Status =  JobStatus.QUEUED\n",
      "Job ID =  5be95e4ba8a14500522c4f1d Status =  JobStatus.DONE\n",
      "Job ID =  5be9569b54dacb0059c2b40c Status =  JobStatus.DONE\n"
     ]
    }
   ],
   "source": [
    "for j in backend.jobs(limit=5):\n",
    "    print(\"Job ID = \", j.job_id(), \"Status = \", j.status())"
   ]
  },
  {
   "cell_type": "code",
   "execution_count": 35,
   "metadata": {},
   "outputs": [
    {
     "name": "stdout",
     "output_type": "stream",
     "text": [
      "Cancelling job ID =  5be954b0a8a14500522c4ee9 Status =  JobStatus.QUEUED\n"
     ]
    }
   ],
   "source": [
    "#\n",
    "# Cancel all queued jobs\n",
    "#\n",
    "from qiskit.backends.jobstatus import JobStatus, JOB_FINAL_STATES\n",
    "for j in backend.jobs(limit=5):\n",
    "    if j.status() == JobStatus.QUEUED:\n",
    "        print(\"Cancelling job ID = \", j.job_id(), \"Status = \", j.status())\n",
    "        j.cancel()"
   ]
  },
  {
   "cell_type": "code",
   "execution_count": null,
   "metadata": {
    "collapsed": true
   },
   "outputs": [],
   "source": []
  }
 ],
 "metadata": {
  "kernelspec": {
   "display_name": "Python 3",
   "language": "python",
   "name": "python3"
  },
  "language_info": {
   "codemirror_mode": {
    "name": "ipython",
    "version": 3
   },
   "file_extension": ".py",
   "mimetype": "text/x-python",
   "name": "python",
   "nbconvert_exporter": "python",
   "pygments_lexer": "ipython3",
   "version": "3.6.2"
  }
 },
 "nbformat": 4,
 "nbformat_minor": 2
}
