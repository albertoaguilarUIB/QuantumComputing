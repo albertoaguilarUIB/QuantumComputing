{
 "cells": [
  {
   "cell_type": "code",
   "execution_count": 1,
   "metadata": {
    "collapsed": true
   },
   "outputs": [],
   "source": [
    "from qiskit import QuantumRegister, ClassicalRegister, QuantumCircuit\n",
    "from qiskit.tools.visualization import matplotlib_circuit_drawer as drawer\n",
    "from qiskit import Aer\n",
    "from qiskit import execute\n",
    "import numpy as np\n",
    "%matplotlib inline"
   ]
  },
  {
   "cell_type": "markdown",
   "metadata": {},
   "source": [
    "In this notebook, we use Qiskit to develop a circuit that implements a quantum Fourier transform. Recall that the quantum Fourier transform (or, depending on conventions, its inverse) is given by\n",
    "$$\n",
    "|x \\rangle \\mapsto \\frac{1}{\\sqrt{2^n}} \\sum_s \\eta^{xs} |s \\rangle\n",
    "$$\n",
    "where $\\eta$ is an $2^n$-th root of unity with n being the number of qubits in the register, i.e.\n",
    "$$\n",
    "\\eta = \\exp \\frac{2\\pi i}{2^n}\n",
    "$$"
   ]
  },
  {
   "cell_type": "markdown",
   "metadata": {},
   "source": [
    "How can we efficiently calculate the quantum Fourier transform? The standard approach (which is explained in all standard textbooks) is as follows. First, we observe that the state above is in fact a product state. In fact, we can make the decomposition\n",
    "$$\n",
    "\\sum_s \\eta^{xs} |s \\rangle = (|0\\rangle + \\eta^{2^{n-1} x}|1\\rangle)(|0 \\rangle + \\eta^{2^{n-2}x}|1 \\rangle) \\cdots (|0 \\rangle + \\eta^x|1 \\rangle)\n",
    "$$\n",
    "Thus the most significant qubit (q[n-1] in the OpenQASM convention is given by\n",
    "$$\n",
    "(|0 \\rangle + \\eta^{2^{n-1}x} |1 \\rangle\n",
    "$$\n",
    "Let us analyse this further. For that purpose, we decompose the integer x into its binary representation, i.e. we write\n",
    "$$\n",
    "x = \\sum_{i=0}^{n-1} 2^i x_i\n",
    "$$\n",
    "Then\n",
    "$$\n",
    "2^{n-1} x = \\sum_{i=0}^{n-1} 2^{n-1+i} x_i = 2^{n-1} x_0 + 2^n \\sum_{i=1}^{n-1} 2^{i-1} x_i\n",
    "$$\n",
    "Now the second term is a multiple of $2^n$, and therefore\n",
    "$$\n",
    "\\eta^{2^{n-1}x} = \\eta^{2^{n-1} x_0} = \\exp (i \\pi x_0)\n",
    "$$\n",
    "Thus the most significant bit is\n",
    "$$\n",
    "|0 \\rangle + e^{i \\pi x_0} |1 \\rangle\n",
    "$$\n",
    "But since $e^{i\\pi} = -1$, this is simply\n",
    "$$\n",
    "H |x_0 \\rangle\n",
    "$$\n",
    "What about the second qubit q[n-2]? We have\n",
    "$$\n",
    "2^{n-2} x = \\sum_{i=0}^{n-1} 2^{n-2+i} x_i = 2^{n-2} x_0 + 2^{n-1} x_1 + 2^n \\sum_{i=2}^{n-1} 2^{i-2} x_i\n",
    "$$\n",
    "and therefore\n",
    "$$\n",
    "\\eta^{2^{n-2}x} = \\eta^{2^{n-2}x_0} \\cdot \\eta^{2^{n-1}x_1}\n",
    "$$\n",
    "Thus the second qubit is\n",
    "$$\n",
    "|0 \\rangle + \\eta^{2^{n-2}x_0} \\cdot \\eta^{2^{n-1}x_1} |1 \\rangle\n",
    "$$\n",
    "On the other hand, \n",
    "$$\n",
    "H |x_1 \\rangle = |0 \\rangle + e^{i \\pi x_1} |1 \\rangle = |0 \\rangle + \\eta^{2^{n-1}x_1} |1 \\rangle\n",
    "$$\n",
    "Thus the second qubit is obtained from $|x_1 \\rangle$ by first applying the Hadamard gate and then applying a conditional rotation \n",
    "$$\n",
    "\\begin{pmatrix} 1 & 0 \\\\ 0 & e^{i \\frac{\\pi}{2}} \\end{pmatrix} = \\begin{pmatrix} 1 & 0 \\\\ 0 & i \\end{pmatrix} = S\n",
    "$$\n",
    "around the z-axis, conditioned on $x_0$. Similarly, the third qubit is obtained by first applying a Hadamard to $|x_2\\rangle$, followed by a conditional rotation as above conditioned on $x_1$, followed by a conditional rotation \n",
    "$$\n",
    "\\begin{pmatrix} 1 & 0 \\\\ 0 & e^{i \\frac{\\pi}{4}} \\end{pmatrix}\n",
    "$$\n",
    "conditioned on $x_0$. \n",
    "\n",
    "\n",
    "We now see a clear pattern evolving. Let us try to write this down formally. For general j, we have\n",
    "$$\n",
    "2^{n-j} x = \\sum_{j=0}^{n-1} 2^{n-j} x_i = \\sum_{i<j}  2^{n-j+i} x_i + 2^n \\sum_{i=j}^{n-1} 2^{i-j} x_i\n",
    "$$\n",
    "and therefore qubit n - j is \n",
    "$$\n",
    "|0 \\rangle + \\prod_{i < j - 1} \\eta^{2^{n-j+i}x_i} H |x_{j-1}\\rangle\n",
    "$$\n",
    "which is again a Hadamard gate followed by a product of conditional rotations around the z-axis. This is encoded into a circuit as follows."
   ]
  },
  {
   "cell_type": "code",
   "execution_count": 2,
   "metadata": {
    "collapsed": true
   },
   "outputs": [],
   "source": [
    "def nBitQFT(q,c,n=3):\n",
    "    circuit = QuantumCircuit(q,c)\n",
    "    #\n",
    "    # We start with the most significant bit\n",
    "    #\n",
    "    for k in range(n):\n",
    "        j = n - k\n",
    "        # Add the Hadamard to qubit j-1\n",
    "        circuit.h(q[j-1])\n",
    "        #\n",
    "        # there is one conditional rotation for\n",
    "        # each qubit with lower significance\n",
    "        for i in reversed(range(j-1)):\n",
    "            circuit.cu1(2*np.pi/2**(j-i),q[i], q[j-1])\n",
    "    #\n",
    "    # Finally we need to swap qubits\n",
    "    #\n",
    "    for i in range(n//2):\n",
    "        circuit.swap(q[i], q[n-i-1])\n",
    "    return circuit"
   ]
  },
  {
   "cell_type": "markdown",
   "metadata": {},
   "source": [
    "Let us now test this. For that purpose, we first express the action of the quantum Fourier transform on the standard basis as a unitary matrix."
   ]
  },
  {
   "cell_type": "code",
   "execution_count": 3,
   "metadata": {
    "collapsed": true
   },
   "outputs": [],
   "source": [
    "def qftMatrix(n):\n",
    "    qft = np.zeros([2**n,2**n], dtype=complex)\n",
    "    for i in range(2**n):\n",
    "        for j in range(2**n):\n",
    "            qft[i,j] = np.exp(i*j*2*1j*np.pi/(2**n))\n",
    "    return 1/np.sqrt(2**n)*qft"
   ]
  },
  {
   "cell_type": "markdown",
   "metadata": {},
   "source": [
    "Now we can test our circuit. We use the unitary simulator that returns the unitary matrix implemented by our circuit and compare the outcome to the expected unitary matrix."
   ]
  },
  {
   "cell_type": "code",
   "execution_count": 4,
   "metadata": {
    "collapsed": true
   },
   "outputs": [],
   "source": [
    "#\n",
    "# Test the circuit for n bits\n",
    "# \n",
    "def testCircuit(n):\n",
    "    q = QuantumRegister(n,\"x\")\n",
    "    c = ClassicalRegister(n,\"c\")\n",
    "    circuit = nBitQFT(q,c,n)\n",
    "\n",
    "    backend = Aer.get_backend('unitary_simulator') \n",
    "    job = execute(circuit, backend)\n",
    "    actual = job.result().get_unitary()\n",
    "    np.around(actual,2)\n",
    "    expected = qftMatrix(n)\n",
    "    delta = actual - expected\n",
    "    print(\"Deviation: \", round(np.linalg.norm(delta),10))\n",
    "    return circuit"
   ]
  },
  {
   "cell_type": "code",
   "execution_count": 5,
   "metadata": {},
   "outputs": [
    {
     "name": "stdout",
     "output_type": "stream",
     "text": [
      "Deviation:  0.0\n"
     ]
    },
    {
     "data": {
      "image/png": "[encoded data removed]",
      "text/plain": [
       "<Figure size 842.8x319.06 with 1 Axes>"
      ]
     },
     "metadata": {},
     "output_type": "display_data"
    }
   ],
   "source": [
    "circuit = testCircuit(n=4)\n",
    "my_style = {'cregbundle': True}\n",
    "drawer(circuit, style=my_style)"
   ]
  },
  {
   "cell_type": "markdown",
   "metadata": {},
   "source": [
    "Let us now apply our circuit to an example input. Obviously, the state $|0\\rangle$ maps to a state which is an equal superposition of all states. Conversely, we expect that if we apply the Fourier transform to this state, we get $|0\\rangle$ back. Let us do this."
   ]
  },
  {
   "cell_type": "code",
   "execution_count": 6,
   "metadata": {},
   "outputs": [
    {
     "data": {
      "image/png": "[encoded data removed]",
      "text/plain": [
       "<Figure size 1143.8x319.06 with 1 Axes>"
      ]
     },
     "metadata": {},
     "output_type": "display_data"
    }
   ],
   "source": [
    "n=4\n",
    "q = QuantumRegister(n,\"x\")\n",
    "c = ClassicalRegister(n,\"c\")\n",
    "qftCircuit = nBitQFT(q,c,n)\n",
    "initCircuit = QuantumCircuit(q,c)\n",
    "for i in range(n):\n",
    "    initCircuit.h(q[i])\n",
    "initCircuit.barrier(q)\n",
    "circuit = initCircuit + qftCircuit\n",
    "circuit.barrier(q)\n",
    "circuit.measure(q,c)\n",
    "drawer(circuit, style=my_style)"
   ]
  },
  {
   "cell_type": "code",
   "execution_count": 7,
   "metadata": {},
   "outputs": [
    {
     "data": {
      "text/plain": [
       "{'0000': 1024}"
      ]
     },
     "execution_count": 7,
     "metadata": {},
     "output_type": "execute_result"
    }
   ],
   "source": [
    "backend = Aer.get_backend('qasm_simulator') \n",
    "job = execute(circuit, backend)\n",
    "job.result().get_counts()"
   ]
  },
  {
   "cell_type": "markdown",
   "metadata": {},
   "source": [
    "As always, we finally test this on real hardware."
   ]
  },
  {
   "cell_type": "code",
   "execution_count": 8,
   "metadata": {},
   "outputs": [
    {
     "name": "stdout",
     "output_type": "stream",
     "text": [
      "Status of backend:  {'pending_jobs': 1, 'name': 'ibmq_16_melbourne', 'operational': True}\n"
     ]
    }
   ],
   "source": [
    "from qiskit import IBMQ\n",
    "IBMQ.load_accounts()\n",
    "backend = IBMQ.get_backend('ibmq_16_melbourne') \n",
    "print(\"Status of backend: \", backend.status())\n",
    "from qiskit import compile\n",
    "qobj = compile(circuit, backend=backend, shots=1024)"
   ]
  },
  {
   "cell_type": "code",
   "execution_count": 9,
   "metadata": {},
   "outputs": [
    {
     "name": "stdout",
     "output_type": "stream",
     "text": [
      "Status @ 0 seconds\n",
      "JobStatus.QUEUED\n",
      "2\n",
      "Status @ 60 seconds\n",
      "JobStatus.QUEUED\n",
      "1\n",
      "Status @ 120 seconds\n",
      "JobStatus.QUEUED\n",
      "1\n",
      "JobStatus.DONE\n"
     ]
    }
   ],
   "source": [
    "#\n",
    "# Submit as a job and wait for completion\n",
    "#\n",
    "job = backend.run(qobj)\n",
    "import time\n",
    "lapse = 0\n",
    "#\n",
    "# Wait three seconds once, this should be good enough for the simulator in most cases\n",
    "#\n",
    "time.sleep(3)\n",
    "interval = 60\n",
    "while (job.status().name != 'DONE') and (job.status().name != 'CANCELLED') and (job.status().name != 'ERROR'):\n",
    "    print('Status @ {} seconds'.format(interval * lapse))\n",
    "    print(job.status())\n",
    "    print(job.queue_position())\n",
    "    time.sleep(interval)\n",
    "    lapse += 1\n",
    "print(job.status())"
   ]
  },
  {
   "cell_type": "code",
   "execution_count": 10,
   "metadata": {},
   "outputs": [
    {
     "data": {
      "image/png": "[encoded data removed]",
      "text/plain": [
       "<Figure size 432x288 with 1 Axes>"
      ]
     },
     "metadata": {},
     "output_type": "display_data"
    }
   ],
   "source": [
    "from qiskit.tools.visualization import plot_histogram\n",
    "plot_histogram(job.result().get_counts())"
   ]
  },
  {
   "cell_type": "code",
   "execution_count": 11,
   "metadata": {},
   "outputs": [
    {
     "data": {
      "text/plain": [
       "{'0000': 108,\n",
       " '0001': 66,\n",
       " '0010': 96,\n",
       " '0011': 48,\n",
       " '0100': 89,\n",
       " '0101': 57,\n",
       " '0110': 57,\n",
       " '0111': 35,\n",
       " '1000': 83,\n",
       " '1001': 84,\n",
       " '1010': 42,\n",
       " '1011': 74,\n",
       " '1100': 45,\n",
       " '1101': 62,\n",
       " '1110': 33,\n",
       " '1111': 45}"
      ]
     },
     "execution_count": 11,
     "metadata": {},
     "output_type": "execute_result"
    }
   ],
   "source": [
    "job.result().get_counts()"
   ]
  },
  {
   "cell_type": "markdown",
   "metadata": {},
   "source": [
    "We clearly see that we have reached a level of noise that significantly distorts our result. This is not really surprising given the number of gates - if we dump the compiled QASM code, we find that our circuit contains roughly 140 gates."
   ]
  },
  {
   "cell_type": "code",
   "execution_count": 12,
   "metadata": {},
   "outputs": [
    {
     "name": "stdout",
     "output_type": "stream",
     "text": [
      "Compiled qasm:\n",
      " OPENQASM 2.0;\n",
      "include \"qelib1.inc\";\n",
      "qreg q[14];\n",
      "creg c[4];\n",
      "u2(0,3.14159265358979) q[13];\n",
      "u2(0,3.14159265358979) q[2];\n",
      "u2(0,3.14159265358979) q[1];\n",
      "u2(0,3.14159265358979) q[0];\n",
      "barrier q[0],q[1],q[2],q[13];\n",
      "u2(0,3.14159265358979) q[13];\n",
      "u2(0,3.92699081698724) q[2];\n",
      "u1(0.392699081698724) q[1];\n",
      "u2(0,3.33794219443916) q[0];\n",
      "cx q[13],q[1];\n",
      "u2(0,3.14159265358979) q[1];\n",
      "u2(0,3.14159265358979) q[13];\n",
      "cx q[13],q[1];\n",
      "u2(0,3.14159265358979) q[1];\n",
      "u2(0,3.14159265358979) q[13];\n",
      "cx q[13],q[1];\n",
      "u2(0,3.14159265358979) q[1];\n",
      "cx q[1],q[2];\n",
      "u3(0.785398163397448,1.57079632679490,4.71238898038469) q[1];\n",
      "cx q[1],q[2];\n",
      "u2(0.785398163397448,3.14159265358979) q[1];\n",
      "cx q[13],q[1];\n",
      "u1(-0.392699081698724) q[1];\n",
      "cx q[13],q[1];\n",
      "u1(0.785398163397448) q[13];\n",
      "u1(0.392699081698724) q[1];\n",
      "cx q[13],q[1];\n",
      "u2(0,3.14159265358979) q[1];\n",
      "u2(0,3.14159265358979) q[13];\n",
      "cx q[13],q[1];\n",
      "u2(0,3.14159265358979) q[1];\n",
      "u2(0,3.14159265358979) q[13];\n",
      "cx q[13],q[1];\n",
      "cx q[1],q[2];\n",
      "u1(-0.785398163397448) q[2];\n",
      "cx q[13],q[1];\n",
      "u2(0,3.14159265358979) q[1];\n",
      "u2(0,3.14159265358979) q[13];\n",
      "cx q[13],q[1];\n",
      "u2(0,3.14159265358979) q[1];\n",
      "u2(0,3.14159265358979) q[13];\n",
      "cx q[13],q[1];\n",
      "u2(0,3.14159265358979) q[1];\n",
      "cx q[1],q[0];\n",
      "u2(0,3.14159265358979) q[0];\n",
      "u2(-0.196349540849362,3.14159265358979) q[1];\n",
      "cx q[1],q[2];\n",
      "u2(0,3.14159265358979) q[2];\n",
      "u2(0,3.14159265358979) q[1];\n",
      "cx q[1],q[2];\n",
      "u2(0,3.14159265358979) q[2];\n",
      "u2(0,3.14159265358979) q[1];\n",
      "cx q[1],q[2];\n",
      "cx q[13],q[1];\n",
      "cx q[1],q[0];\n",
      "u2(0,3.14159265358979) q[0];\n",
      "u2(0,3.14159265358979) q[1];\n",
      "cx q[1],q[0];\n",
      "u2(0,3.14159265358979) q[0];\n",
      "u2(0,3.14159265358979) q[1];\n",
      "cx q[1],q[0];\n",
      "cx q[1],q[2];\n",
      "u1(0.196349540849362) q[2];\n",
      "u1(0.392699081698724) q[1];\n",
      "u1(0.785398163397448) q[0];\n",
      "cx q[1],q[0];\n",
      "u1(-0.392699081698724) q[0];\n",
      "cx q[1],q[0];\n",
      "u2(0,3.92699081698724) q[1];\n",
      "u1(0.392699081698724) q[0];\n",
      "cx q[13],q[1];\n",
      "u3(0.785398163397448,1.57079632679490,4.71238898038469) q[13];\n",
      "cx q[13],q[1];\n",
      "cx q[1],q[0];\n",
      "u2(0,3.14159265358979) q[0];\n",
      "u2(0,3.14159265358979) q[1];\n",
      "cx q[1],q[0];\n",
      "u2(0,3.14159265358979) q[0];\n",
      "u2(0,3.14159265358979) q[1];\n",
      "cx q[1],q[0];\n",
      "u2(0,3.14159265358979) q[0];\n",
      "u2(0.785398163397448,3.14159265358979) q[13];\n",
      "cx q[13],q[1];\n",
      "cx q[1],q[2];\n",
      "u2(0,3.14159265358979) q[2];\n",
      "u2(0,3.14159265358979) q[1];\n",
      "cx q[1],q[2];\n",
      "u2(0,3.14159265358979) q[2];\n",
      "u2(0,3.14159265358979) q[1];\n",
      "cx q[1],q[2];\n",
      "u2(0,3.14159265358979) q[2];\n",
      "u2(0,3.14159265358979) q[1];\n",
      "cx q[1],q[0];\n",
      "u2(0,3.14159265358979) q[0];\n",
      "u2(0,3.14159265358979) q[1];\n",
      "cx q[13],q[1];\n",
      "u2(0,3.14159265358979) q[1];\n",
      "u2(0,3.14159265358979) q[13];\n",
      "cx q[13],q[1];\n",
      "u2(0,3.14159265358979) q[1];\n",
      "u2(0,3.14159265358979) q[13];\n",
      "cx q[13],q[1];\n",
      "u2(0,3.14159265358979) q[1];\n",
      "cx q[1],q[2];\n",
      "u2(0,3.14159265358979) q[2];\n",
      "u2(0,3.14159265358979) q[1];\n",
      "cx q[1],q[0];\n",
      "u2(0,3.14159265358979) q[0];\n",
      "u2(0,3.14159265358979) q[1];\n",
      "cx q[1],q[0];\n",
      "u2(0,3.14159265358979) q[0];\n",
      "u2(0,3.14159265358979) q[1];\n",
      "cx q[1],q[0];\n",
      "cx q[13],q[1];\n",
      "cx q[1],q[0];\n",
      "u2(0,3.14159265358979) q[13];\n",
      "u2(0,3.14159265358979) q[0];\n",
      "u2(0,3.14159265358979) q[1];\n",
      "cx q[1],q[0];\n",
      "u2(0,3.14159265358979) q[0];\n",
      "u2(0,3.14159265358979) q[1];\n",
      "cx q[1],q[0];\n",
      "cx q[1],q[2];\n",
      "cx q[1],q[0];\n",
      "u2(0,3.14159265358979) q[0];\n",
      "u2(0,3.14159265358979) q[1];\n",
      "cx q[1],q[0];\n",
      "u2(0,3.14159265358979) q[0];\n",
      "u2(0,3.14159265358979) q[1];\n",
      "cx q[1],q[0];\n",
      "u2(0,3.14159265358979) q[1];\n",
      "cx q[13],q[1];\n",
      "u2(0,3.14159265358979) q[1];\n",
      "u2(0,3.14159265358979) q[13];\n",
      "barrier q[1],q[0],q[2],q[13];\n",
      "measure q[1] -> c[0];\n",
      "measure q[0] -> c[1];\n",
      "measure q[2] -> c[2];\n",
      "measure q[13] -> c[3];\n",
      "\n"
     ]
    }
   ],
   "source": [
    "compiled_qasm = qobj.as_dict()['experiments'][0]['header']['compiled_circuit_qasm']\n",
    "print(\"Compiled qasm:\\n\", compiled_qasm)"
   ]
  },
  {
   "cell_type": "markdown",
   "metadata": {},
   "source": [
    "Of course, we could now start to simplify our circuit. In this particular case, we could remove the final swaps, as we are performing a measurement anyway. We could also eliminate Hadamard gates that cancel each other to reduce the overall number of gates and we could try to rearrange qubits to deal with the coupling map of the specific IBM model. However, this example shows that even comparatively small circuits are probing the limits of the currently available hardware. Let us see whether the situation is much better with n=3."
   ]
  },
  {
   "cell_type": "code",
   "execution_count": 13,
   "metadata": {
    "collapsed": true
   },
   "outputs": [],
   "source": [
    "n=3\n",
    "q = QuantumRegister(n,\"x\")\n",
    "c = ClassicalRegister(n,\"c\")\n",
    "qftCircuit = nBitQFT(q,c,n)\n",
    "initCircuit = QuantumCircuit(q,c)\n",
    "for i in range(n):\n",
    "    initCircuit.h(q[i])\n",
    "initCircuit.barrier(q)\n",
    "circuit = initCircuit + qftCircuit\n",
    "circuit.barrier(q)\n",
    "circuit.measure(q,c)\n",
    "qobj = compile(circuit, backend=backend, shots=1024)"
   ]
  },
  {
   "cell_type": "code",
   "execution_count": 14,
   "metadata": {},
   "outputs": [
    {
     "name": "stdout",
     "output_type": "stream",
     "text": [
      "Status @ 0 seconds\n",
      "JobStatus.RUNNING\n",
      "0\n",
      "JobStatus.DONE\n"
     ]
    }
   ],
   "source": [
    "#\n",
    "# Submit as a job and wait for completion\n",
    "#\n",
    "job = backend.run(qobj)\n",
    "import time\n",
    "lapse = 0\n",
    "#\n",
    "# Wait three seconds once, this should be good enough for the simulator in most cases\n",
    "#\n",
    "time.sleep(3)\n",
    "interval = 60\n",
    "while (job.status().name != 'DONE') and (job.status().name != 'CANCELLED') and (job.status().name != 'ERROR'):\n",
    "    print('Status @ {} seconds'.format(interval * lapse))\n",
    "    print(job.status())\n",
    "    print(job.queue_position())\n",
    "    time.sleep(interval)\n",
    "    lapse += 1\n",
    "print(job.status())"
   ]
  },
  {
   "cell_type": "code",
   "execution_count": 15,
   "metadata": {},
   "outputs": [
    {
     "data": {
      "text/plain": [
       "{'000': 512,\n",
       " '001': 133,\n",
       " '010': 22,\n",
       " '011': 15,\n",
       " '100': 217,\n",
       " '101': 99,\n",
       " '110': 14,\n",
       " '111': 12}"
      ]
     },
     "execution_count": 15,
     "metadata": {},
     "output_type": "execute_result"
    }
   ],
   "source": [
    "job.result().get_counts()"
   ]
  },
  {
   "cell_type": "code",
   "execution_count": 16,
   "metadata": {},
   "outputs": [
    {
     "data": {
      "image/png": "[encoded data removed]",
      "text/plain": [
       "<Figure size 432x288 with 1 Axes>"
      ]
     },
     "metadata": {},
     "output_type": "display_data"
    }
   ],
   "source": [
    "plot_histogram(job.result().get_counts())"
   ]
  },
  {
   "cell_type": "code",
   "execution_count": null,
   "metadata": {
    "collapsed": true
   },
   "outputs": [],
   "source": []
  }
 ],
 "metadata": {
  "kernelspec": {
   "display_name": "Python 3",
   "language": "python",
   "name": "python3"
  },
  "language_info": {
   "codemirror_mode": {
    "name": "ipython",
    "version": 3
   },
   "file_extension": ".py",
   "mimetype": "text/x-python",
   "name": "python",
   "nbconvert_exporter": "python",
   "pygments_lexer": "ipython3",
   "version": "3.6.2"
  }
 },
 "nbformat": 4,
 "nbformat_minor": 2
}
