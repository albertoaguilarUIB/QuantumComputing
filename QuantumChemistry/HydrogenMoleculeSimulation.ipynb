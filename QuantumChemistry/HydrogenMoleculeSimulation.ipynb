{
 "cells": [
  {
   "cell_type": "markdown",
   "metadata": {},
   "source": [
    "In this notebook, we will investigate the transformation of the electronic Hamiltonian of a molecule into a Hamiltonian acting on a quantum register, spanned by a collection of qubits. We will then continue to build quantum circuits to simulate the time evolution under the Hamiltonian.\n",
    "\n",
    "This implementation is very straightforward - if $K$ is the number of molecular spin orbitals $\\chi_0, \\dots, \\chi_{K-1}$, we use K qubits and consider the full Fock space which also has dimension $2^K$. We represent all matrices as full $2^K \\times 2^K$ matrices. This is simple, but of course only works for small values of $K$ - for larger values, using sparse matrices or symbolic manipulations like those provided by OpenFermion would be required."
   ]
  },
  {
   "cell_type": "markdown",
   "metadata": {},
   "source": [
    "First, we provide a helper function that will construct creation and annihilation operators. A creation operator $a^\\dagger_p$ with index $p$ maps the element of the occupation number basis given by the binary string $b$ to either zero (if $b_p = 1$) or to the member which is given by the binary string $b'$, where $b'$ is obtained from b by setting the digit at position p to 1 and leaving all other members unchanged. In addition, there is a prefactor\n",
    "$$\n",
    "\\sum_{i=0}^{p-1} (-1)^{b_i}\n",
    "$$\n",
    "The annihilation operator has the same prefactor, is zero if $b_p = 0$ and otherwise sets the digit at position $p$ to one. To transform between the qubit space and the Fock space, we use the Jordan-Wigner transform. With that transform, a member of the occupation number basis which is described by a binary bit string of length K is mapped to the member of the computational basis that is described by the same binary string."
   ]
  },
  {
   "cell_type": "code",
   "execution_count": 1,
   "metadata": {},
   "outputs": [],
   "source": [
    "import numpy as np"
   ]
  },
  {
   "cell_type": "code",
   "execution_count": 2,
   "metadata": {},
   "outputs": [],
   "source": [
    "#######################################\n",
    "# Return a creation operator in the   #\n",
    "# occupation number basis             #\n",
    "# Use Jordan-Wigner transform         #\n",
    "#######################################\n",
    "def creatorJW(p, K):\n",
    "    result = np.zeros((2**K,2**K))\n",
    "    # Go through the columns, i.e. the members of the \n",
    "    # occupation number basis\n",
    "    mask = 1 << p\n",
    "    for b in range(2**K):\n",
    "        # \n",
    "        # The creator will only give a non-zero result\n",
    "        # if position p is not yet set\n",
    "        #\n",
    "        if (0 == (mask & b)):\n",
    "            bprime = b + mask\n",
    "            factor = 1\n",
    "            for i in range(p):\n",
    "                factor = factor * (-1)**((b >> i) % 2)\n",
    "            result[bprime][b] = factor\n",
    "    return result\n",
    "\n",
    "\n",
    "#######################################\n",
    "# Return an annihilation operator     #\n",
    "# Our matrices are real, so we just   #\n",
    "# take the transpose                  #\n",
    "#######################################\n",
    "def annihilatorJW(p, K):\n",
    "    return creatorJW(p,K).T"
   ]
  },
  {
   "cell_type": "markdown",
   "metadata": {},
   "source": [
    "As a little test, we can check the commutation relations."
   ]
  },
  {
   "cell_type": "code",
   "execution_count": 3,
   "metadata": {},
   "outputs": [],
   "source": [
    "#######################################\n",
    "# Test commutators                    #\n",
    "#######################################\n",
    "def testCommutatorsFermions(K, creator, annihilator):\n",
    "    for p in range(K):\n",
    "        # First test that the creator squares to zero\n",
    "        apdagger = creator(p,K)\n",
    "        actual = np.matmul(apdagger, apdagger)\n",
    "        if (np.linalg.norm(actual) > 10**(-12)):\n",
    "            print(\"Square not zero for p = \", p)\n",
    "        # Now test the commutators with all annihilators\n",
    "        for q in range(K):\n",
    "            aq = annihilator(q,K)\n",
    "            actual = np.matmul(apdagger, aq) + np.matmul(aq, apdagger)\n",
    "            if (p == q):\n",
    "                expected = np.identity(2**K)\n",
    "            else:\n",
    "                expected = np.zeros((2**K, 2**K))\n",
    "            if (np.linalg.norm(expected - actual) > 10**(-12)):\n",
    "                print(\"p = \", p, \"q = \", q, \" ---> error! Expected:\\n \", expected, \"got:\\n \", actual )"
   ]
  },
  {
   "cell_type": "code",
   "execution_count": 4,
   "metadata": {},
   "outputs": [],
   "source": [
    "testCommutatorsFermions(4, creatorJW, annihilatorJW)"
   ]
  },
  {
   "cell_type": "markdown",
   "metadata": {},
   "source": [
    "Similarly, we will need the Pauli X and Z matrices, acting on qubit p. These actions are actually quite simple. $X$ just performs a bit flip i.e. an XOR with the target bit, whereas Z just multiplies by -1 if the bit is set."
   ]
  },
  {
   "cell_type": "code",
   "execution_count": 5,
   "metadata": {},
   "outputs": [],
   "source": [
    "#######################################\n",
    "# Return the Pauli X operator         #\n",
    "#######################################\n",
    "def X(p, K):\n",
    "    result = np.zeros((2**K,2**K))\n",
    "    # Go through the columns, i.e. the members of the \n",
    "    # computational basis\n",
    "    mask = 1 << p\n",
    "    for b in range(2**K):\n",
    "        bprime = b ^ mask\n",
    "        result[bprime][b] = 1\n",
    "    return result\n",
    "\n",
    "#######################################\n",
    "# Return the Pauli Z operator         #\n",
    "#######################################\n",
    "def Z(p, K):\n",
    "    result = np.zeros((2**K,2**K))\n",
    "    # Go through the columns, i.e. the members of the \n",
    "    # computational basis\n",
    "    mask = 1 << p\n",
    "    for b in range(2**K):\n",
    "        result[b][b] = (-1)**((b >> p) % 2)\n",
    "    return result\n"
   ]
  },
  {
   "cell_type": "code",
   "execution_count": 6,
   "metadata": {},
   "outputs": [],
   "source": [
    "#######################################\n",
    "# Test commutators                    #\n",
    "#######################################\n",
    "def testCommutatorsPauli(K):\n",
    "    for p in range(K):\n",
    "        # First test that the X and Z operators both square to one\n",
    "        Xp = X(p,K)\n",
    "        actual = np.matmul(Xp, Xp)\n",
    "        if (np.linalg.norm(actual-np.identity(2**K)) > 10**(-12)):\n",
    "            print(\"Square not one for X_p, p = \", p)\n",
    "        Zp = Z(p,K)\n",
    "        actual = np.matmul(Zp, Zp)\n",
    "        if (np.linalg.norm(actual - np.identity(2**K)) > 10**(-12)):\n",
    "            print(\"Square not one for Z_p, p = \", p)\n",
    "        # Now test commutators. X and Y should commute on different qubits and anti-commute\n",
    "        # on the same qubit. We start with the relations for the same qubit\n",
    "        if (np.linalg.norm(np.matmul(Xp, Zp) + np.matmul(Zp, Xp)) > 10**(-12)):\n",
    "                    print(\" Xp and Zp do not anti-commute for p =\", p)\n",
    "        # Now do different qubits\n",
    "        for q in range(K):\n",
    "            Xq = X(q,K)\n",
    "            Zq = Z(q,K)\n",
    "            # For different qubits, all operators should commute\n",
    "            if p != q:\n",
    "                if (np.linalg.norm(np.matmul(Xp, Xq) - np.matmul(Xq, Xp)) > 10**(-12)):\n",
    "                    print(\" Xp and Xq do not commute for p =\", p, \" and q = \", q)\n",
    "                if (np.linalg.norm(np.matmul(Zp, Zq) - np.matmul(Zq, Zp)) > 10**(-12)):\n",
    "                    print(\" Zp and Zq do not commute for p =\", p, \" and q = \", q)\n",
    "                if (np.linalg.norm(np.matmul(Xp, Zq) - np.matmul(Zq, Xp)) > 10**(-12)):\n",
    "                    print(\" Xp and Zq do not commute for p =\", p, \" and q = \", q)\n",
    "                if (np.linalg.norm(np.matmul(Zp, Xq) - np.matmul(Xq, Zp)) > 10**(-12)):\n",
    "                    print(\" Zp and Xq do not commute for p =\", p, \" and q = \", q)\n"
   ]
  },
  {
   "cell_type": "code",
   "execution_count": 7,
   "metadata": {},
   "outputs": [],
   "source": [
    "testCommutatorsPauli(4)"
   ]
  },
  {
   "cell_type": "markdown",
   "metadata": {},
   "source": [
    "The next task will be to write a given matrix as a linear combination of products of Pauli operators. In fact, we can write each matrix as\n",
    "$$\n",
    "\\sum_{\\alpha, \\beta} a_{\\alpha, \\beta} X^\\alpha Z^\\beta\n",
    "$$\n",
    "where $\\alpha$ and $\\beta$ are K-bit strings, and $X^\\alpha$ has the obvious meaning \n",
    "$$\n",
    "X^\\alpha = (X^{(K-1)})^{\\alpha_{K-1}} \\cdots \n",
    "$$\n",
    "To find the coefficients in this expansion, we can utilize the fact that a product of Pauli-matrices is trace-free. To find the coefficient at $\\alpha, \\beta$, we can therefore multiply the matrix by $Z^\\beta X^\\alpha$ from the left, take the trace and divide by $2^K$."
   ]
  },
  {
   "cell_type": "code",
   "execution_count": 8,
   "metadata": {},
   "outputs": [],
   "source": [
    "################################################\n",
    "# Return the decomposition of a matrix into    #\n",
    "# a sum of products of Pauli matrices          #\n",
    "# We return the result as a matrix with coeff. #\n",
    "# alpha, beta where the matrix element at      #\n",
    "# [alpha, beta] is the coefficient of          #\n",
    "# X**alpha Z**beta                             #\n",
    "################################################\n",
    "def pauliDecomposition(A):\n",
    "    N = np.shape(A)[0]\n",
    "    if (np.shape(A)[1] != N):\n",
    "        raise(\"A is not a square matrix\")\n",
    "    K = int(np.log2(N))\n",
    "    if (2**K != N):\n",
    "        raise(\"Dimension not a power of two\")\n",
    "    result = np.zeros((2**K, 2**K))\n",
    "    for alpha in range(2**K):\n",
    "        # First calculate Xalpha\n",
    "        Xalpha = np.identity(2**K)\n",
    "        for i in range(K):\n",
    "            if ((alpha >> i) % 2):\n",
    "                Xalpha = np.matmul(Xalpha, X(i, K))\n",
    "        # Now iterate overall over all betas\n",
    "        for beta in range(2**K):\n",
    "            # Calculate Zbeta\n",
    "            Zbeta = np.identity(2**K)\n",
    "            for i in range(K):\n",
    "                if ((beta >> i) % 2):\n",
    "                    Zbeta = np.matmul(Zbeta, Z(i, K))\n",
    "            # Now multiply our matrix from the left \n",
    "            check = np.matmul(Zbeta, np.matmul(Xalpha, A))\n",
    "            result[alpha][beta] = np.trace(check) / 2**K\n",
    "    return result\n",
    "\n",
    "\n",
    "#################################################\n",
    "# Helper method to print out a decomposition    #\n",
    "#################################################\n",
    "def printPauliDecomposition(D):\n",
    "    N = np.shape(D)[0]\n",
    "    if (np.shape(D)[1] != N):\n",
    "        raise(\"A is not a square matrix\")\n",
    "    K = int(np.log2(N))\n",
    "    if (2**K != N):\n",
    "        raise(\"Dimension not a power of two\")\n",
    "    for alpha in range(N):\n",
    "        for beta in range(N):\n",
    "            coeff = D[alpha, beta]\n",
    "            if coeff != 0:\n",
    "                string = \"\"\n",
    "                # First print Xalpha\n",
    "                for i in range(K):\n",
    "                    if ((alpha >> i) % 2):\n",
    "                        string+=(\"X{0}\".format(i))\n",
    "                # Now print Zbeta\n",
    "                for i in range(K):\n",
    "                    if ((beta >> i) % 2):\n",
    "                        string+=(\"Z{0}\".format(i))\n",
    "                if ((alpha == 0) and (beta == 0)):\n",
    "                    string = \"E\"\n",
    "                print(\"{0:.3f}*\".format(coeff)+string)\n",
    "                \n",
    "#############################################\n",
    "# Given a Pauli decomposition, turn this    #\n",
    "# into a full matrix                        #\n",
    "#############################################\n",
    "def pauliDecompositionToMatrix(D):\n",
    "    N = np.shape(D)[0]\n",
    "    if (np.shape(D)[1] != N):\n",
    "        raise(\"Not a square matrix\")\n",
    "    K = int(np.log2(N))\n",
    "    if (2**K != N):\n",
    "        raise(\"Dimension not a power of 2\")\n",
    "    result = np.zeros((N,N))\n",
    "    # Go through the matrix, i.e. each combination of alpha and beta\n",
    "    for alpha in range(N):\n",
    "        for beta in range(N):\n",
    "            haveTemp = 0\n",
    "            temp = np.identity(N)\n",
    "            coeff = D[alpha][beta]\n",
    "            if (coeff != 0):\n",
    "                # first calculate X**alpha\n",
    "                for i in range(K):\n",
    "                    if (1 == ((alpha >> i) % 2)):\n",
    "                        if (0 == haveTemp):\n",
    "                            temp = X(i,K)\n",
    "                            haveTemp = 1\n",
    "                        else:\n",
    "                            temp = np.matmul(temp,X(i,K))\n",
    "                # now do the same for Z**beta\n",
    "                for i in range(K):\n",
    "                    if (1 == ((beta >> i) % 2)):\n",
    "                        if (0 == haveTemp):\n",
    "                            temp = Z(i,K)\n",
    "                            haveTemp = 1\n",
    "                        else:\n",
    "                            temp = np.matmul(temp,Z(i,K))\n",
    "                result = result + coeff*temp\n",
    "    return result"
   ]
  },
  {
   "cell_type": "code",
   "execution_count": 9,
   "metadata": {},
   "outputs": [
    {
     "name": "stdout",
     "output_type": "stream",
     "text": [
      "5.000*E\n",
      "0.300*Z0Z1\n",
      "1.000*X1Z0\n"
     ]
    }
   ],
   "source": [
    "A = np.matmul(Z(0,2), X(1,2)) + 0.3*np.matmul(Z(1,2), Z(0,2)) + 5*np.identity(4)\n",
    "D = pauliDecomposition(A)\n",
    "printPauliDecomposition(D)"
   ]
  },
  {
   "cell_type": "markdown",
   "metadata": {},
   "source": [
    "We can now check that the Jordan-Wigner transform is correct. Recall that\n",
    "$$\n",
    "X_+ = \\frac{1}{2} (X - IY) = \\frac{1}{2} (X + XZ)\n",
    "$$\n",
    "Let us verify this."
   ]
  },
  {
   "cell_type": "code",
   "execution_count": 10,
   "metadata": {},
   "outputs": [
    {
     "data": {
      "text/plain": [
       "array([[0., 0.],\n",
       "       [1., 0.]])"
      ]
     },
     "execution_count": 10,
     "metadata": {},
     "output_type": "execute_result"
    }
   ],
   "source": [
    "0.5*(np.matmul(X(0,1),Z(0,1)) + X(0,1))"
   ]
  },
  {
   "cell_type": "markdown",
   "metadata": {},
   "source": [
    "Now the Jordan-Wigner transform maps $a_p^\\dagger$ to\n",
    "$$\n",
    "X_+^{(p)} Z^{(p-1)} \\cdots Z^{(0)}\n",
    "$$\n",
    "which then becomes\n",
    "$$\n",
    "\\frac{1}{2} X^{(p)} Z^{(p-1)} \\cdots Z^{(0)} + \\frac{1}{2} X^{(p)} Z^{(p)} Z^{(p-1)} \\cdots Z^{(0)}\n",
    "$$\n",
    "or, after reording the Z-factors\n",
    "$$\n",
    "\\frac{1}{2} X^{(p)} Z^{(0)}\\cdots Z^{(p-1)}  + \\frac{1}{2} X^{(p)} Z^{(0)} \\cdots Z^{(p-1)} Z^{(p)}  \n",
    "$$"
   ]
  },
  {
   "cell_type": "code",
   "execution_count": 11,
   "metadata": {},
   "outputs": [
    {
     "name": "stdout",
     "output_type": "stream",
     "text": [
      "0.500*X3Z0Z1Z2\n",
      "0.500*X3Z0Z1Z2Z3\n"
     ]
    }
   ],
   "source": [
    "printPauliDecomposition(pauliDecomposition(creatorJW(3,4)))"
   ]
  },
  {
   "cell_type": "markdown",
   "metadata": {},
   "source": [
    "Next, let us take a look at the Bravyi-Kitaev (BK) transform. With that transformation, a member\n",
    "$$\n",
    "|f_{K-1}, \\dots, f_0 \\rangle\n",
    "$$\n",
    "of the occupation number basis is mapped to the member of the binary basis described by the bit string $BK(f)$. The encoding BK can - in case K is a power of 2 - be described recursively. Given a bit string $f$ of length $2K$, we first apply the transform to the first and the last $K$ bits. Then we add the highest bit of the result for the first part to that for the second part and concatenate the resulting strings again. "
   ]
  },
  {
   "cell_type": "code",
   "execution_count": 12,
   "metadata": {},
   "outputs": [],
   "source": [
    "###########################################\n",
    "# Given a binary vector f, return the     #\n",
    "# binary string BK(f)                     #\n",
    "###########################################\n",
    "def BK(f, K):\n",
    "    #\n",
    "    # First verify that K is a power of 2\n",
    "    #\n",
    "    if (2**int(np.log2(K)) != K):\n",
    "        raise(\"Dimension not a power of two\")\n",
    "    # Cut off everything above position K\n",
    "    f = f ^ ((f >> K) << K)\n",
    "    # We are done if K is one\n",
    "    if (K == 1):\n",
    "        return f\n",
    "    N = K // 2\n",
    "    # Call the BK transform on the first and second part\n",
    "    # recursively\n",
    "    partI = BK(f, N)\n",
    "    partII = BK((f >> N), N)\n",
    "    # put full parity into MSB of part II\n",
    "    MSBpartI = (partI >> (N-1)) << (N-1)\n",
    "    partII = MSBpartI ^ partII\n",
    "    return partI ^ (partII << N)"
   ]
  },
  {
   "cell_type": "markdown",
   "metadata": {},
   "source": [
    "The way this is usually presented is in terms of a matrix $\\beta$, such that the bit string $b = BK(f)$ is related to the bit string $f$ by\n",
    "$$\n",
    "b_i = \\sum_{k} \\beta_{ik} f_k\n",
    "$$\n",
    "Let us form and print this matrix to compare the results of our function with the literature."
   ]
  },
  {
   "cell_type": "code",
   "execution_count": 13,
   "metadata": {},
   "outputs": [],
   "source": [
    "#############################################\n",
    "# Create the BK transformation matrix       #\n",
    "#############################################\n",
    "def betaBK(K):\n",
    "    #\n",
    "    # The rows the matrix are the results of the\n",
    "    # transformations of the \"unit vectors\" with only\n",
    "    # one position different from zero\n",
    "    # \n",
    "    result = np.zeros((K,K))\n",
    "    for i in range(K):\n",
    "        e = 1 << i\n",
    "        column = BK(e, K)\n",
    "        # Now form the row in the matrix\n",
    "        # by extracting the bits from column\n",
    "        for j in range(K):\n",
    "            result[j][i]= (column >> j) % 2\n",
    "    return result"
   ]
  },
  {
   "cell_type": "code",
   "execution_count": 14,
   "metadata": {},
   "outputs": [
    {
     "data": {
      "text/plain": [
       "array([[1., 0., 0., 0.],\n",
       "       [1., 1., 0., 0.],\n",
       "       [0., 0., 1., 0.],\n",
       "       [1., 1., 1., 1.]])"
      ]
     },
     "execution_count": 14,
     "metadata": {},
     "output_type": "execute_result"
    }
   ],
   "source": [
    "betaBK(4)"
   ]
  },
  {
   "cell_type": "markdown",
   "metadata": {},
   "source": [
    "We can now again build creation and annihilation operators based on that transform. To calculate the action of, say, $a_p^\\dagger$, we have to first apply the inverse of the BK transform to get from qubit space into the Fock space. Then we apply the creation in Fock space, which will give us a different member of the occupation number basis plus a phase factor $\\pm 1$. We then transform the basis vector back using the BK transform and apply the phase again. So we first need to find the inverse of the BK transform on the level of bit strings."
   ]
  },
  {
   "cell_type": "code",
   "execution_count": 15,
   "metadata": {},
   "outputs": [],
   "source": [
    "###########################################\n",
    "# Given a binary vector f, return the     #\n",
    "# binary string BKinv                     #\n",
    "###########################################\n",
    "def BKinv(f, K):\n",
    "    #\n",
    "    # First verify that K is a power of 2\n",
    "    #\n",
    "    if (2**int(np.log2(K)) != K):\n",
    "        raise(\"Dimension not a power of two\")\n",
    "    # Cut off everything above position K\n",
    "    f = f ^ ((f >> K) << K)\n",
    "    # We are done if K is one\n",
    "    if (K == 1):\n",
    "        return f\n",
    "    N = K // 2\n",
    "    # Split our string in two parts\n",
    "    partII = (f >> N)\n",
    "    partI = f ^ (partII << N)\n",
    "    # Before calling the routine recursively, we have to modify\n",
    "    # its highest bit to only contain the parity of the\n",
    "    # highest part. We do this by adding the highest\n",
    "    # bit of the first part\n",
    "    msb = (partI >> (N-1)) << (N-1)\n",
    "    partII = partII ^ msb\n",
    "    return BKinv(partI, N ) + ((BKinv(partII, N)) << N)"
   ]
  },
  {
   "cell_type": "code",
   "execution_count": 16,
   "metadata": {},
   "outputs": [],
   "source": [
    "# \n",
    "# Let us test this \n",
    "#\n",
    "for i in range(2**8):\n",
    "    bk = BK(i,8)\n",
    "    assert(i == BKinv(bk, 8))"
   ]
  },
  {
   "cell_type": "code",
   "execution_count": 17,
   "metadata": {},
   "outputs": [],
   "source": [
    "############################################\n",
    "# Return a matrix that - with respect to   #\n",
    "# the computational basis - describes the  #\n",
    "# creation operator                        #\n",
    "############################################\n",
    "def creatorBK(p,K):\n",
    "    result = np.zeros((2**K, 2**K))\n",
    "    mask = 1 << p\n",
    "    #\n",
    "    # Go through all members of the computational\n",
    "    # basis, i.e. all columns of our matrix\n",
    "    #\n",
    "    for b in range(2**K):\n",
    "        f = BKinv(b, K)\n",
    "        # \n",
    "        # The creator will only give a non-zero result\n",
    "        # if position p is not yet set\n",
    "        #\n",
    "        if (0 == (mask & f)):\n",
    "            fprime = f + mask\n",
    "            factor = 1\n",
    "            for i in range(p):\n",
    "                factor = factor * (-1)**((f >> i) % 2)\n",
    "            bprime = BK(fprime, K)\n",
    "            result[bprime][b] = factor\n",
    "    return result\n",
    "\n",
    "def annihilatorBK(p, K):\n",
    "    return creatorBK(p,K).T"
   ]
  },
  {
   "cell_type": "code",
   "execution_count": 18,
   "metadata": {},
   "outputs": [
    {
     "data": {
      "text/plain": [
       "array([[ 0.,  0.,  0.,  0.],\n",
       "       [ 0.,  0.,  0., -1.],\n",
       "       [ 1.,  0.,  0.,  0.],\n",
       "       [ 0.,  0.,  0.,  0.]])"
      ]
     },
     "execution_count": 18,
     "metadata": {},
     "output_type": "execute_result"
    }
   ],
   "source": [
    "creatorBK(1,2)"
   ]
  },
  {
   "cell_type": "code",
   "execution_count": 19,
   "metadata": {},
   "outputs": [],
   "source": [
    "testCommutatorsFermions(8, creatorBK, annihilatorBK)"
   ]
  },
  {
   "cell_type": "markdown",
   "metadata": {},
   "source": [
    "Now let us try to transform the Hamiltonian. Our strategy is to first express the Hamiltonian in the second quantization as a linear combination of products of creation and annihilation operator. Then we use the above procedure to write this as a sum of products of Pauli operators.\n",
    "\n",
    "So our starting point is the decomposition\n",
    "$$\n",
    "H = \\sum_{p,q} \\langle \\chi_p | h | \\chi_q \\rangle + \\frac{1}{2} \\sum_{p,q,r,s}  \\langle pq | V | sr \\rangle a^\\dagger p a^\\dagger q a_s a_r\n",
    "$$\n",
    "We will use Psi4 to obtain the integrals in the AO basis that we then transform to the MO basis. We also need a convention to map spin orbitals to spatial integrals. We will use the convention that the first half of the spin orbitals are spin up, the second half is spin down. Specifically,\n",
    "$$\n",
    "\\chi_0 = \\psi_+ \\alpha\n",
    "$$\n",
    "$$\n",
    "\\chi_1 = \\psi_- \\alpha\n",
    "$$\n",
    "$$\n",
    "\\chi_2 = \\psi_+ \\beta\n",
    "$$\n",
    "$$\n",
    "\\chi_3 = \\psi_- \\beta\n",
    "$$\n",
    "Let us first obtain the integrals. Note that Psi4 stores the integrals with a different order of the indices, namely according to the chemists convention\n",
    "$$\n",
    "\\langle p q | V | r s \\rangle = [p r | q s]\n",
    "$$"
   ]
  },
  {
   "cell_type": "code",
   "execution_count": 20,
   "metadata": {},
   "outputs": [],
   "source": [
    "import psi4\n",
    "# Use symmetry c1, otherweise Psi4 will return the coefficient matrix per irrep\n",
    "h2_template = \"\"\"\n",
    "H 0 0 -**R/2**\n",
    "H 0 0 **R/2**\n",
    "\n",
    "units bohr\n",
    "symmetry c1\n",
    "\"\"\"\n",
    "R = 1.4\n",
    "h2 = psi4.geometry(h2_template.replace('**R/2**', str(0.5*R)))\n",
    "h2.update_geometry()\n",
    "psi4.set_options({'basis': 'sto-3g'})\n",
    "# First we initialize the wave function object \n",
    "wfn = psi4.core.Wavefunction.build(h2, psi4.core.get_global_option('basis'))\n",
    "# Once we have the wave function, we can now initialize the\n",
    "# mints helper class that can calculate our integrals. \n",
    "mints = psi4.core.MintsHelper(wfn.basisset())\n",
    "I = np.asarray(mints.ao_eri())\n",
    "Hcore = np.asarray(mints.ao_kinetic()) + np.asarray(mints.ao_potential())\n",
    "#\n",
    "# Do a Hartree-Fock RHF calculation and get coefficient matrix\n",
    "#\n",
    "e, wfn = psi4.energy('SCF', return_wfn=True)\n",
    "C = wfn.Ca().to_array()\n",
    "#\n",
    "# Transform matrices to MO basis\n",
    "#\n",
    "H_mo = np.einsum('ui,vj,uv', C, C, Hcore)\n",
    "I_mo = np.einsum('ui, vj, sk, tl, uvst', C, C, C, C, I)"
   ]
  },
  {
   "cell_type": "code",
   "execution_count": 21,
   "metadata": {},
   "outputs": [],
   "source": [
    "################################\n",
    "# Return the spin of chi_p     #\n",
    "################################\n",
    "def getSpin(p, K):\n",
    "    if (p < (K // 2)):\n",
    "        return 1\n",
    "    return -1\n",
    "    #return p % 2\n",
    "\n",
    "################################\n",
    "# Return the spatial part of   #\n",
    "# chi_p                        #\n",
    "################################\n",
    "def getSpatial(p, K):\n",
    "    return p % (K//2)\n",
    "    # return p // 2"
   ]
  },
  {
   "cell_type": "code",
   "execution_count": 22,
   "metadata": {},
   "outputs": [],
   "source": [
    "###############################################\n",
    "# Assemble the Hamiltonian.                   #\n",
    "###############################################\n",
    "def hamiltonian(K, H_mo, I_mo, creator, annihilator, decimals=12):\n",
    "    N = K // 2\n",
    "    if (2*N != K):\n",
    "        raise(\"K must be even\")\n",
    "    H = np.zeros((2**K, 2**K))\n",
    "    #\n",
    "    # First do the core hamiltonian part. Note that \n",
    "    # we only get a contribution if p and q have the same\n",
    "    # spin\n",
    "    #\n",
    "    for p in range(K):\n",
    "        for q in range(K):\n",
    "            if (getSpin(p, K) == getSpin(q, K)):\n",
    "                H = H + H_mo[getSpatial(p, K)][getSpatial(q,K)] * np.matmul(creator(p,K), annihilator(q,K))\n",
    "    #\n",
    "    # Now we apply a similar logic to the interaction part\n",
    "    #\n",
    "    for p in range(K):\n",
    "        for q in range(K):\n",
    "            for r in range(K):\n",
    "                for s in range(K):\n",
    "                    if (getSpin(p,K) == getSpin(r, K)) and (getSpin(q,K) == getSpin(s, K)):\n",
    "                        coeff = 0.5*I_mo[getSpatial(p, K)][getSpatial(r, K)][getSpatial(q, K)][getSpatial(s,K)]\n",
    "                        matrix  =np.matmul(creator(p,K),np.matmul(creator(q,K), np.matmul(annihilator(s, K), annihilator(r,K))))\n",
    "                        H = H +  coeff*matrix\n",
    "    return np.around(H, decimals)"
   ]
  },
  {
   "cell_type": "code",
   "execution_count": 23,
   "metadata": {},
   "outputs": [],
   "source": [
    "#################################################\n",
    "# A little helper to print a matrix             #\n",
    "#################################################\n",
    "def printMatrix(A):\n",
    "    K = np.shape(A)[0]\n",
    "    for p in range(K):\n",
    "        s = \"\"\n",
    "        for q in range(K):\n",
    "            if (A[p][q] != 0):\n",
    "                s = s + \"{0:6.2f}\".format(A[p][q])\n",
    "            else:\n",
    "                s = s + \"  00  \"\n",
    "        print(s)        "
   ]
  },
  {
   "cell_type": "code",
   "execution_count": 24,
   "metadata": {},
   "outputs": [
    {
     "name": "stdout",
     "output_type": "stream",
     "text": [
      "  00    00    00    00    00    00    00    00    00    00    00    00    00    00    00    00  \n",
      "  00   -1.25  00    00    00    00    00    00    00    00    00    00    00    00    00    00  \n",
      "  00    00   -0.25  00    00    00    00    0.18  00    00    00    00    00    00    00    00  \n",
      "  00    00    00   -1.06  00    00    0.18  00    00    00    00    00    00    00    00    00  \n",
      "  00    00    00    00   -1.25  00    00    00    00    00    00    00    00    00    00    00  \n",
      "  00    00    00    00    00    0.21  00    00    00    00    00    00    00    00    00    00  \n",
      "  00    00    00    0.18  00    00   -1.06  00    00    00    00    00    00    00    00    00  \n",
      "  00    00    0.18  00    00    00    00   -1.83  00    00    00    00    00    00    00    00  \n",
      "  00    00    00    00    00    00    00    00   -0.48  00    00    00    00    00    00    00  \n",
      "  00    00    00    00    00    00    00    00    00   -0.36  00    00    00    00    00    00  \n",
      "  00    00    00    00    00    00    00    00    00    00   -0.48  00    00    00    00    00  \n",
      "  00    00    00    00    00    00    00    00    00    00    00   -1.25  00    00    00    00  \n",
      "  00    00    00    00    00    00    00    00    00    00    00    00   -1.25  00    00    00  \n",
      "  00    00    00    00    00    00    00    00    00    00    00    00    00   -1.16  00    00  \n",
      "  00    00    00    00    00    00    00    00    00    00    00    00    00    00   -0.36  00  \n",
      "  00    00    00    00    00    00    00    00    00    00    00    00    00    00    00   -1.16\n"
     ]
    }
   ],
   "source": [
    "H = hamiltonian(4, H_mo, I_mo, creatorBK, annihilatorBK, 2)\n",
    "printMatrix(H)"
   ]
  },
  {
   "cell_type": "code",
   "execution_count": 25,
   "metadata": {},
   "outputs": [],
   "source": [
    "epsilon, _ = np.linalg.eigh(H)"
   ]
  },
  {
   "cell_type": "code",
   "execution_count": 26,
   "metadata": {},
   "outputs": [
    {
     "data": {
      "text/plain": [
       "array([-1.85024688, -1.25      , -1.25      , -1.25      , -1.25      ,\n",
       "       -1.24      , -1.16      , -1.16      , -0.88      , -0.48      ,\n",
       "       -0.48      , -0.36      , -0.36      , -0.22975312,  0.        ,\n",
       "        0.21      ])"
      ]
     },
     "execution_count": 26,
     "metadata": {},
     "output_type": "execute_result"
    }
   ],
   "source": [
    "epsilon"
   ]
  },
  {
   "cell_type": "code",
   "execution_count": 27,
   "metadata": {},
   "outputs": [
    {
     "name": "stdout",
     "output_type": "stream",
     "text": [
      "-0.812*E\n",
      "0.171*Z0\n",
      "0.119*Z1\n",
      "-0.223*Z0Z1\n",
      "0.171*Z2\n",
      "0.168*Z0Z2\n",
      "-0.001*Z1Z2\n",
      "0.167*Z0Z1Z2\n",
      "0.001*Z3\n",
      "0.001*Z0Z3\n",
      "0.119*Z1Z3\n",
      "-0.001*Z0Z1Z3\n",
      "0.001*Z2Z3\n",
      "0.176*Z0Z2Z3\n",
      "-0.223*Z1Z2Z3\n",
      "0.167*Z0Z1Z2Z3\n",
      "0.045*X0X2\n",
      "-0.045*X0X2Z1\n",
      "0.045*X0X2Z3\n",
      "-0.045*X0X2Z1Z3\n"
     ]
    }
   ],
   "source": [
    "D = pauliDecomposition(H)\n",
    "printPauliDecomposition(D)"
   ]
  },
  {
   "cell_type": "code",
   "execution_count": 28,
   "metadata": {},
   "outputs": [],
   "source": [
    "check = pauliDecompositionToMatrix(D)\n",
    "assert(np.linalg.norm(check - H ) < 10**(-12))"
   ]
  },
  {
   "cell_type": "markdown",
   "metadata": {},
   "source": [
    "Now let us try whether we can further simplify this. So far, we have been acting on the full 16-dimensional Fock space. However, we know that the Hamiltonian commutes with the number operator, and we are only interested in the subspace spanned by two-electron states. So we can set the Hamiltonian to zero outside this space. In other words, instead of the full Hamiltonian, we look at the matrix $HP$ where $P$ is the projection onto the 2-electron subspace. So let us calculate this matrix.  "
   ]
  },
  {
   "cell_type": "code",
   "execution_count": 29,
   "metadata": {},
   "outputs": [],
   "source": [
    "#################################################\n",
    "# Calculate the projection onto the N-electron  #\n",
    "# subspace                                      #\n",
    "# Note that we need a different matrix for a    #\n",
    "# BK transformed basis                          #\n",
    "#################################################\n",
    "def projection(K,N, BK=1):\n",
    "    result = np.zeros((2**K, 2**K))\n",
    "    for b in range(2**K):\n",
    "        #\n",
    "        # Calculate weight of b, i.e. number of bits set\n",
    "        #\n",
    "        if (0 == BK):\n",
    "            particles = bin(b).count(\"1\")\n",
    "        else:\n",
    "            particles = bin(BKinv(b, K)).count(\"1\")\n",
    "        if (particles == N):\n",
    "            result[b][b] = 1\n",
    "    return result"
   ]
  },
  {
   "cell_type": "code",
   "execution_count": 30,
   "metadata": {},
   "outputs": [
    {
     "name": "stdout",
     "output_type": "stream",
     "text": [
      "  00    00    00    00    00    00    00    00    00    00    00    00    00    00    00    00  \n",
      "  00    1.00  00    00    00    00    00    00    00    00    00    00    00    00    00    00  \n",
      "  00    00    1.00  00    00    00    00    00    00    00    00    00    00    00    00    00  \n",
      "  00    00    00    1.00  00    00    00    00    00    00    00    00    00    00    00    00  \n",
      "  00    00    00    00    1.00  00    00    00    00    00    00    00    00    00    00    00  \n",
      "  00    00    00    00    00    00    00    00    00    00    00    00    00    00    00    00  \n",
      "  00    00    00    00    00    00    1.00  00    00    00    00    00    00    00    00    00  \n",
      "  00    00    00    00    00    00    00    1.00  00    00    00    00    00    00    00    00  \n",
      "  00    00    00    00    00    00    00    00    00    00    00    00    00    00    00    00  \n",
      "  00    00    00    00    00    00    00    00    00    00    00    00    00    00    00    00  \n",
      "  00    00    00    00    00    00    00    00    00    00    00    00    00    00    00    00  \n",
      "  00    00    00    00    00    00    00    00    00    00    00    00    00    00    00    00  \n",
      "  00    00    00    00    00    00    00    00    00    00    00    00    00    00    00    00  \n",
      "  00    00    00    00    00    00    00    00    00    00    00    00    00    00    00    00  \n",
      "  00    00    00    00    00    00    00    00    00    00    00    00    00    00    00    00  \n",
      "  00    00    00    00    00    00    00    00    00    00    00    00    00    00    00    00  \n"
     ]
    }
   ],
   "source": [
    "printMatrix(projection(4,2))"
   ]
  },
  {
   "cell_type": "code",
   "execution_count": 31,
   "metadata": {},
   "outputs": [],
   "source": [
    "H1 = np.matmul(H,projection(4,2))\n",
    "H1 = H1[:8, :8]"
   ]
  },
  {
   "cell_type": "code",
   "execution_count": 32,
   "metadata": {},
   "outputs": [
    {
     "data": {
      "text/plain": [
       "(8, 8)"
      ]
     },
     "execution_count": 32,
     "metadata": {},
     "output_type": "execute_result"
    }
   ],
   "source": [
    "np.shape(H1)"
   ]
  },
  {
   "cell_type": "code",
   "execution_count": 33,
   "metadata": {},
   "outputs": [
    {
     "name": "stdout",
     "output_type": "stream",
     "text": [
      "  00    00    00    00    00    00    00    00  \n",
      "  00   -1.25  00    00    00    00    00    00  \n",
      "  00    00   -0.25  00    00    00    00    0.18\n",
      "  00    00    00   -1.06  00    00    0.18  00  \n",
      "  00    00    00    00   -1.25  00    00    00  \n",
      "  00    00    00    00    00    00    00    00  \n",
      "  00    00    00    0.18  00    00   -1.06  00  \n",
      "  00    00    0.18  00    00    00    00   -1.83\n"
     ]
    }
   ],
   "source": [
    "printMatrix(H1)"
   ]
  },
  {
   "cell_type": "code",
   "execution_count": 34,
   "metadata": {},
   "outputs": [
    {
     "name": "stdout",
     "output_type": "stream",
     "text": [
      "-0.838*E\n",
      "0.198*Z0\n",
      "0.213*Z1\n",
      "-0.198*Z0Z1\n",
      "0.198*Z2\n",
      "0.318*Z0Z2\n",
      "-0.198*Z1Z2\n",
      "0.307*Z0Z1Z2\n",
      "0.090*X0X2\n",
      "-0.090*X0X2Z1\n"
     ]
    }
   ],
   "source": [
    "D1 = pauliDecomposition(H1)\n",
    "printPauliDecomposition(D1)"
   ]
  },
  {
   "cell_type": "code",
   "execution_count": 35,
   "metadata": {},
   "outputs": [],
   "source": [
    "check = pauliDecompositionToMatrix(D1)\n",
    "#printMatrix(check)\n",
    "assert(np.linalg.norm(check - H1) < 10**(-12))"
   ]
  },
  {
   "cell_type": "markdown",
   "metadata": {},
   "source": [
    "Thus we have ten terms in total, acting on three qubits. However, this can be simplified further taking spin into account. The Hamiltonian also commutes with the total spin Z operator. This will split our $8 \\times 8$ matrix into two block matrices, in other words, we will reduce the problem to a four-dimensional matrix for which two qubits are sufficient if we further project onto the subspace of total spin zero.\n",
    "\n",
    "To verify our calculation, let us quickly see which vector (in the computational basis) span the spin-zero subspace. First, there is the Hartree-Fock ground state. In the occupation number basis, this is $|\\chi_0 \\chi_2 \\rangle = |0101\\rangle = |5 \\rangle$. This is mapped to the element $|7\\rangle$ of the computational basis. Then, there is a second state of g symmetry - this is \n",
    "$$\n",
    "|\\psi_-^\\alpha \\psi_-^\\beta \\rangle = |\\chi_1 \\chi_3 \\rangle = |1010\\rangle = |10 \\rangle\n",
    "$$\n",
    "which is mapped to $|2 \\rangle$ under the BK transform. Then, there are two states of u-symmetry:\n",
    "$$\n",
    "|\\psi_+^\\alpha \\psi_-^\\beta \\rangle = |\\chi_0 \\chi_3 \\rangle = |1001\\rangle = |9 \\rangle\n",
    "$$\n",
    "and\n",
    "$$\n",
    "|\\psi_-^\\alpha \\psi_+^\\beta \\rangle = |\\chi_1 \\chi_2 \\rangle = |0110\\rangle = |6 \\rangle\n",
    "$$\n",
    "which are mapped by the BK transform to $|3 \\rangle$ and $|6 \\rangle$. So we expect that the subspace we are interested in is spanned by\n",
    "$$\n",
    " |2 \\rangle, |3\\rangle, |6 \\rangle, |7 \\rangle\n",
    "$$"
   ]
  },
  {
   "cell_type": "code",
   "execution_count": 36,
   "metadata": {},
   "outputs": [],
   "source": [
    "#################################################\n",
    "# Determine the spin of a member of the         #\n",
    "# computational basis                           #\n",
    "#################################################\n",
    "def getSpinForBasis(b, K, BK=1):\n",
    "    if (0 == BK):\n",
    "        f = b\n",
    "    else:\n",
    "        f = BKinv(b, K)\n",
    "    spin = 0\n",
    "    for i in range(K):\n",
    "        spin = spin + getSpin(i,K) * ((f >> i) % 2)\n",
    "    return spin\n",
    "\n",
    "\n",
    "\n",
    "#################################################\n",
    "# Calculate the projection onto the spin S      #\n",
    "# subspace                                      #\n",
    "# Note that we need a different matrix for a    #\n",
    "# BK transformed basis                          #\n",
    "#################################################\n",
    "def spinProjection(K,S, BK=1):\n",
    "    result = np.zeros((2**K, 2**K))\n",
    "    for b in range(2**K):\n",
    "        #\n",
    "        # Calculate spin of b. To avoid hardcoding\n",
    "        # any assumptions here, we walk over\n",
    "        # the bits and sum up their individual spins\n",
    "        #\n",
    "        spin = getSpinForBasis(b,K, BK)\n",
    "        if (spin == S):\n",
    "            result[b][b] = 1\n",
    "    return result"
   ]
  },
  {
   "cell_type": "code",
   "execution_count": 37,
   "metadata": {},
   "outputs": [],
   "source": [
    "H2 = np.matmul(H,np.matmul(spinProjection(4,0), projection(4,2)))\n",
    "H2 = H2[:8, :8]"
   ]
  },
  {
   "cell_type": "code",
   "execution_count": 38,
   "metadata": {},
   "outputs": [
    {
     "data": {
      "text/plain": [
       "array([[ 0.  ,  0.  ,  0.  ,  0.  ,  0.  ,  0.  ,  0.  ,  0.  ],\n",
       "       [ 0.  ,  0.  ,  0.  ,  0.  ,  0.  ,  0.  ,  0.  ,  0.  ],\n",
       "       [ 0.  ,  0.  , -0.25,  0.  ,  0.  ,  0.  ,  0.  ,  0.18],\n",
       "       [ 0.  ,  0.  ,  0.  , -1.06,  0.  ,  0.  ,  0.18,  0.  ],\n",
       "       [ 0.  ,  0.  ,  0.  ,  0.  ,  0.  ,  0.  ,  0.  ,  0.  ],\n",
       "       [ 0.  ,  0.  ,  0.  ,  0.  ,  0.  ,  0.  ,  0.  ,  0.  ],\n",
       "       [ 0.  ,  0.  ,  0.  ,  0.18,  0.  ,  0.  , -1.06,  0.  ],\n",
       "       [ 0.  ,  0.  ,  0.18,  0.  ,  0.  ,  0.  ,  0.  , -1.83]])"
      ]
     },
     "execution_count": 38,
     "metadata": {},
     "output_type": "execute_result"
    }
   ],
   "source": [
    "H2"
   ]
  },
  {
   "cell_type": "markdown",
   "metadata": {},
   "source": [
    "To utilize this to reduce the number of terms in the Pauli decomposition, we can describe the subspace spanned by the four basis vector $|2\\rangle, |3\\rangle, |6\\rangle$ and $|7\\rangle$ on which H acts non-trivially as the subspace which is the -1-eigenspace of $Z_1$. Thus, we can obtain a simplified Pauli decomposition by setting all instances of $Z_1$ to minus 1. Alternatively, we can simply select the four columns 2,3,6,7 only and apply a Pauli Decomposition to the result"
   ]
  },
  {
   "cell_type": "code",
   "execution_count": 39,
   "metadata": {},
   "outputs": [
    {
     "data": {
      "text/plain": [
       "array([[-0.25,  0.  ,  0.  ,  0.18],\n",
       "       [ 0.  , -1.06,  0.18,  0.  ],\n",
       "       [ 0.  ,  0.18, -1.06,  0.  ],\n",
       "       [ 0.18,  0.  ,  0.  , -1.83]])"
      ]
     },
     "execution_count": 39,
     "metadata": {},
     "output_type": "execute_result"
    }
   ],
   "source": [
    "H2 = H2[:, [2,3,6,7]]\n",
    "H2 = H2[[2,3,6,7],:]\n",
    "H2"
   ]
  },
  {
   "cell_type": "code",
   "execution_count": 40,
   "metadata": {},
   "outputs": [
    {
     "name": "stdout",
     "output_type": "stream",
     "text": [
      "-1.050*E\n",
      "0.395*Z0\n",
      "0.395*Z1\n",
      "0.010*Z0Z1\n",
      "0.180*X0X1\n"
     ]
    }
   ],
   "source": [
    "D2 = pauliDecomposition(H2)\n",
    "printPauliDecomposition(D2)"
   ]
  },
  {
   "cell_type": "code",
   "execution_count": 41,
   "metadata": {},
   "outputs": [],
   "source": [
    "# Again check that we are still on track.\n",
    "check = pauliDecompositionToMatrix(D2)\n",
    "assert(np.linalg.norm((check - H2)) < 10**(-12))"
   ]
  },
  {
   "cell_type": "code",
   "execution_count": 42,
   "metadata": {},
   "outputs": [
    {
     "data": {
      "text/plain": [
       "array([-1.85024688, -1.24      , -0.88      , -0.22975312])"
      ]
     },
     "execution_count": 42,
     "metadata": {},
     "output_type": "execute_result"
    }
   ],
   "source": [
    "epsilon, _ = np.linalg.eigh(H2)\n",
    "epsilon"
   ]
  },
  {
   "cell_type": "markdown",
   "metadata": {},
   "source": [
    "Let us now try to implement quantum circuit that realizes $\\exp(-itH)$, starting with the last and most simplified Pauli decomposition which we have just obtained (meaning that the unitary operator that we get will **only** be correct on the corresponding four-dimensional subspace). The operator we have to realize is a sum of product of Pauli operators $P_i$. We will use Trotterization, i.e. we will approximate\n",
    "$$\n",
    "\\exp (-it\\sum_i P_i) \\approx (-i \\frac{t}{n} \\prod_i \\exp(P_i))^n\n",
    "$$\n",
    "So the first thing we need is a way to realize an operator of the form\n",
    "$$\n",
    "e^{-itX^\\alpha Z^\\beta}\n",
    "$$\n",
    "It is well known how to do this, see for instance chapter 4 of Nielsen / Chuang. Let us first consider the case that $\\alpha = 0$, i.e. we have the exponential of a product of Z-operators. To realize this, we add an ancilla which we call the partity qubit. We then use CNOT gates with the other involved qubits to calculate the parity in this qubit, apply $e^{itZ}$ on this qubit, and uncompute again.\n",
    "\n",
    "Note that in general, the resulting circuit will not exactly simulate the time evolution operator, but only up to a global phase. We need to keep track of that phase to remove it again once our calculations are complete."
   ]
  },
  {
   "cell_type": "code",
   "execution_count": 43,
   "metadata": {},
   "outputs": [
    {
     "name": "stderr",
     "output_type": "stream",
     "text": [
      "/home/chr/Local/anaconda3/envs/p4env/lib//python3.6/site-packages/marshmallow/schema.py:364: ChangedInMarshmallow3Warning: strict=False is not recommended. In marshmallow 3.0, schemas will always be strict. See https://marshmallow.readthedocs.io/en/latest/upgrading.html#schemas-are-always-strict\n",
      "  ChangedInMarshmallow3Warning\n"
     ]
    }
   ],
   "source": [
    "from qiskit import QuantumCircuit, ClassicalRegister, QuantumRegister\n",
    "from qiskit.tools.visualization import circuit_drawer as drawer\n",
    "my_style = {'cregbundle': True}"
   ]
  },
  {
   "cell_type": "code",
   "execution_count": 44,
   "metadata": {},
   "outputs": [],
   "source": [
    "###########################################\n",
    "# Realize the exponential exp(-itZ**beta) #\n",
    "# The circuit will be added to an existing#\n",
    "# quantum circuit                         #\n",
    "# Returns a global phase a such that      #\n",
    "# circuit = a * exp(-itZ**beta)           #\n",
    "###########################################\n",
    "def pureZExponential(beta, circuit, q, t):\n",
    "    a = 1\n",
    "    # Trivial case beta = 0:\n",
    "    if (0 == beta):\n",
    "        return a\n",
    "    # Find parity qubit\n",
    "    l = bin(beta).count(\"1\") + bin(beta).count(\"0\")\n",
    "    for i in range(l):\n",
    "        if (1 == ((beta >> i) % 2)):\n",
    "            parityQbit = i\n",
    "            break\n",
    "    # Connect each qubit which is set in beta\n",
    "    # to the parity qubit with a CNOT gate\n",
    "    for i in range(l):\n",
    "        if (1 == ((beta >> i) % 2)) and (i != parityQbit):\n",
    "            circuit.cx(q[i], q[parityQbit])\n",
    "    # Next there is an exponential on the Z-axis. This is just the rotation around\n",
    "    # the Z-axis. However, there is a problem - in Qiskit, the operator RZ(2t) is\n",
    "    # not really exp(-itZ), but is exp(it) exp(-itZ). This introduces a global phase\n",
    "    # which we need to track\n",
    "    circuit.rz(2*t,q[parityQbit])\n",
    "    a = a * np.exp(1j*t)\n",
    "    # and finally we uncompute the CNOT gates - make sure to do this in reverse order!\n",
    "    for i in reversed(range(l)):\n",
    "        if (1 == ((beta >> i) % 2)) and (i != parityQbit):\n",
    "            circuit.cx(q[i], q[parityQbit])\n",
    "    return a"
   ]
  },
  {
   "cell_type": "code",
   "execution_count": 45,
   "metadata": {},
   "outputs": [],
   "source": [
    "q = QuantumRegister(4,\"q\")\n",
    "c = ClassicalRegister(4,\"c\")\n",
    "circuit = QuantumCircuit(q, c)"
   ]
  },
  {
   "cell_type": "code",
   "execution_count": 46,
   "metadata": {},
   "outputs": [
    {
     "data": {
      "text/plain": [
       "(0.5403023058681398+0.8414709848078965j)"
      ]
     },
     "execution_count": 46,
     "metadata": {},
     "output_type": "execute_result"
    }
   ],
   "source": [
    "pureZExponential(7, circuit, q, 1.0)"
   ]
  },
  {
   "cell_type": "code",
   "execution_count": 47,
   "metadata": {},
   "outputs": [
    {
     "data": {
      "image/png": "[encoded data removed]",
      "text/plain": [
       "<Figure size 481.6x319.06 with 1 Axes>"
      ]
     },
     "execution_count": 47,
     "metadata": {},
     "output_type": "execute_result"
    }
   ],
   "source": [
    "drawer(circuit, style=my_style, output=\"mpl\")"
   ]
  },
  {
   "cell_type": "markdown",
   "metadata": {},
   "source": [
    "Let us test this for a simple example. We first assemble $Z_0 Z1$ as a matrix, then decompose this as a Pauli operator string and use the above function to create the corresponding quantum circuit. We then apply the unitary simulator coming with qiskit to turn this into a unitary matrix, which we compare to the exponential calculated with numpy."
   ]
  },
  {
   "cell_type": "code",
   "execution_count": 48,
   "metadata": {},
   "outputs": [
    {
     "name": "stdout",
     "output_type": "stream",
     "text": [
      "1.000*Z0Z1\n"
     ]
    }
   ],
   "source": [
    "import scipy.linalg\n",
    "K = 2\n",
    "A = np.matmul(Z(0,K), Z(1,K))\n",
    "#A = Z(0,K)\n",
    "P = pauliDecomposition(A)\n",
    "printPauliDecomposition(P)\n",
    "q = QuantumRegister(2,\"q\")\n",
    "c = ClassicalRegister(2,\"c\")\n",
    "circuit = QuantumCircuit(q, c)\n",
    "a = pureZExponential(3, circuit, q, 1.0)\n",
    "Uexpected = scipy.linalg.expm(-1j*A)*a"
   ]
  },
  {
   "cell_type": "code",
   "execution_count": 49,
   "metadata": {},
   "outputs": [
    {
     "data": {
      "image/png": "[encoded data removed]",
      "text/plain": [
       "<Figure size 361.2x198.66 with 1 Axes>"
      ]
     },
     "execution_count": 49,
     "metadata": {},
     "output_type": "execute_result"
    }
   ],
   "source": [
    "drawer(circuit, style=my_style, output=\"mpl\")"
   ]
  },
  {
   "cell_type": "code",
   "execution_count": 50,
   "metadata": {},
   "outputs": [],
   "source": [
    "from qiskit import Aer\n",
    "from qiskit import execute\n",
    "# Suppress warnings from Marshmallow\n",
    "import warnings\n",
    "from marshmallow.warnings import ChangedInMarshmallow3Warning\n",
    "warnings.simplefilter('ignore', category=ChangedInMarshmallow3Warning)\n",
    "# Run circuit\n",
    "backend = Aer.get_backend('unitary_simulator') \n",
    "job = execute(circuit, backend)\n",
    "actual = job.result().get_unitary()"
   ]
  },
  {
   "cell_type": "code",
   "execution_count": 51,
   "metadata": {},
   "outputs": [],
   "source": [
    "assert(np.linalg.norm(actual - Uexpected) < 10**(-10))"
   ]
  },
  {
   "cell_type": "markdown",
   "metadata": {},
   "source": [
    "Now let us turn to the case that we have factors of X in the product. Say, for instance, we are looking at $X_0 Z_1$. Then we can use the Hadamard-gate and the fact that\n",
    "$$\n",
    "HZH = X\n",
    "$$\n",
    "to reduce this to the case that we already know how to do:\n",
    "$$\n",
    "e^{-itX} = H e^{-itZ} H\n",
    "$$\n",
    "A similar trick works for the case that we have both, X and Z, acting. We can use the phase gate\n",
    "$$\n",
    "S = \\begin{pmatrix} 1 & 0 \\\\ 0 & i \\end{pmatrix}\n",
    "$$\n",
    "and\n",
    "$$\n",
    "S^\\dagger Y S = X  \n",
    "$$\n",
    "However, in our case, we do not even need this, as such a term cannot appear in our case as all matrix coefficients are real."
   ]
  },
  {
   "cell_type": "code",
   "execution_count": 52,
   "metadata": {},
   "outputs": [],
   "source": [
    "###########################################\n",
    "# Build a circuit for the exponential     #\n",
    "# exp(-it X**alpha Z**beta)               #\n",
    "###########################################\n",
    "def exponentialCircuit(alpha, beta, circuit, q, t):\n",
    "    # Trivial case alpha = beta = 0:\n",
    "    if (0 == beta) and (0 == alpha):\n",
    "        return np.exp(1j*t)\n",
    "    a = 1\n",
    "    # If there is a position where we have an X gate\n",
    "    # acting on a qubit, add a Hadamard\n",
    "    # Note that this does in general NOT WORK\n",
    "    # unless we can assume that no qubit appears on\n",
    "    # which both, X and Z, act\n",
    "    l = bin(beta).count(\"1\") + bin(beta).count(\"0\")\n",
    "    for i in range(l):\n",
    "        if (1 == ((alpha >> i) % 2)):\n",
    "            circuit.h(q[i])\n",
    "            if (1 == ((beta >> i) % 2)):\n",
    "                raise(\"Not prepared for XZ terms!\")\n",
    "    # Do exp(-itZ) \n",
    "    gamma = alpha | beta\n",
    "    a = a * pureZExponential(gamma, circuit, q, t)\n",
    "    # and undo the Hadamards again\n",
    "    for i in range(l):\n",
    "        if (1 == ((alpha >> i) % 2)):\n",
    "            circuit.h(q[i])\n",
    "    return a"
   ]
  },
  {
   "cell_type": "code",
   "execution_count": 53,
   "metadata": {},
   "outputs": [
    {
     "name": "stdout",
     "output_type": "stream",
     "text": [
      "1.000*X0Z1\n"
     ]
    }
   ],
   "source": [
    "K = 2\n",
    "A = np.matmul(X(0,K), Z(1,K))\n",
    "P = pauliDecomposition(A)\n",
    "printPauliDecomposition(P)\n",
    "q = QuantumRegister(2,\"q\")\n",
    "c = ClassicalRegister(2,\"c\")\n",
    "circuit = QuantumCircuit(q, c)\n",
    "a = exponentialCircuit(1, 2, circuit, q, 1.0)\n",
    "Uexpected = scipy.linalg.expm(-1j*A)*a"
   ]
  },
  {
   "cell_type": "code",
   "execution_count": 54,
   "metadata": {},
   "outputs": [
    {
     "data": {
      "image/png": "[encoded data removed]",
      "text/plain": [
       "<Figure size 481.6x198.66 with 1 Axes>"
      ]
     },
     "execution_count": 54,
     "metadata": {},
     "output_type": "execute_result"
    }
   ],
   "source": [
    "drawer(circuit, style=my_style, output=\"mpl\")"
   ]
  },
  {
   "cell_type": "code",
   "execution_count": 55,
   "metadata": {},
   "outputs": [
    {
     "name": "stdout",
     "output_type": "stream",
     "text": [
      "[[ 0.29192658+0.45464871j  0.70807342-0.45464871j  0.        +0.j\n",
      "   0.        +0.j        ]\n",
      " [ 0.70807342-0.45464871j  0.29192658+0.45464871j  0.        +0.j\n",
      "   0.        +0.j        ]\n",
      " [ 0.        +0.j          0.        +0.j          0.29192658+0.45464871j\n",
      "  -0.70807342+0.45464871j]\n",
      " [ 0.        +0.j          0.        +0.j         -0.70807342+0.45464871j\n",
      "   0.29192658+0.45464871j]]\n"
     ]
    }
   ],
   "source": [
    "from qiskit import Aer\n",
    "from qiskit import execute\n",
    "backend = Aer.get_backend('unitary_simulator') \n",
    "job = execute(circuit, backend)\n",
    "print(job.result().get_unitary())\n",
    "actual = job.result().get_unitary()"
   ]
  },
  {
   "cell_type": "code",
   "execution_count": 56,
   "metadata": {},
   "outputs": [],
   "source": [
    "assert(np.linalg.norm(actual - Uexpected) < 10**(-10))"
   ]
  },
  {
   "cell_type": "markdown",
   "metadata": {},
   "source": [
    "Let us now build the circuit for our Hamiltonian, i.e. the composition that we have stored in D2. To do this, we first pick a value for the exponent n in the Trotter approximation, a number which is sometimes called the **Trotter number**. The larger this number, the better the approximation, but the more terms we will have. We then add the same circuit n times in a loop. Each circuit is again a sequence of subcircuits, one for every component in the Pauli decomposition. In addition, we have to keep track of the global phase."
   ]
  },
  {
   "cell_type": "code",
   "execution_count": 57,
   "metadata": {},
   "outputs": [],
   "source": [
    "#################################################\n",
    "# Build a circuit that - using Trotterization   #\n",
    "# approximates exp(-iHt), where H is given by   #\n",
    "# a Pauli decomposition D.                      #\n",
    "# Returns a global phase a such that the        #\n",
    "# circuit realizes a * exp(-iHt)                #\n",
    "#################################################\n",
    "def trotterApproximation(D, circuit, q,t, n):\n",
    "    N = np.shape(D)[0]\n",
    "    K = int(np.log2(N))\n",
    "    a = 1\n",
    "    dt = t / n\n",
    "    #\n",
    "    # We first need a loop over the powers\n",
    "    # \n",
    "    for i in range(n):\n",
    "        #\n",
    "        # Now we need an inner loop over the terms in the\n",
    "        # Pauli decomposition\n",
    "        #\n",
    "        for alpha in range(N):\n",
    "            for beta in range(N):\n",
    "                coeff = D[alpha][beta]\n",
    "                if (coeff != 0):\n",
    "                    #\n",
    "                    # add circuit for this term\n",
    "                    #\n",
    "                    a = a * exponentialCircuit(alpha, beta, circuit, q, coeff * dt)\n",
    "    return a"
   ]
  },
  {
   "cell_type": "code",
   "execution_count": 58,
   "metadata": {},
   "outputs": [
    {
     "name": "stdout",
     "output_type": "stream",
     "text": [
      "50.000*E\n",
      "1.000*X0Z1\n",
      "1.000*X1\n",
      "Deviation:  0.0007893762737753867\n"
     ]
    }
   ],
   "source": [
    "#\n",
    "# Let us do a first test with a rather simple matrix and a very large\n",
    "# Trotter number\n",
    "#\n",
    "K = 2\n",
    "t = 0.2\n",
    "A = np.matmul(X(0,K), Z(1,K)) + 50*np.identity(4) + X(1,K)\n",
    "P = pauliDecomposition(A)\n",
    "printPauliDecomposition(P)\n",
    "q = QuantumRegister(2,\"q\")\n",
    "c = ClassicalRegister(2,\"c\")\n",
    "circuit = QuantumCircuit(q, c)\n",
    "a = trotterApproximation(P, circuit, q, t, 100)\n",
    "Uexpected = scipy.linalg.expm(-1j*t*A)*a\n",
    "backend = Aer.get_backend('unitary_simulator') \n",
    "job = execute(circuit, backend)\n",
    "actual = job.result().get_unitary()\n",
    "print(\"Deviation: \", np.linalg.norm(actual - Uexpected))"
   ]
  },
  {
   "cell_type": "markdown",
   "metadata": {},
   "source": [
    "Now we are finally ready to apply this to our Hamiltonian. We start with the Trotter number n = 2. Recall that our Hamiltonian was H2, with Pauli decomposition stored in D2."
   ]
  },
  {
   "cell_type": "code",
   "execution_count": 59,
   "metadata": {},
   "outputs": [
    {
     "name": "stdout",
     "output_type": "stream",
     "text": [
      "Relative deviation:  0.0020029528745024792\n"
     ]
    }
   ],
   "source": [
    "q = QuantumRegister(2,\"q\")\n",
    "c = ClassicalRegister(2,\"c\")\n",
    "circuit = QuantumCircuit(q, c)\n",
    "a = trotterApproximation(D2, circuit, q, t, 2)\n",
    "Uexpected = scipy.linalg.expm(-1j*t*H2)*a\n",
    "backend = Aer.get_backend('unitary_simulator') \n",
    "job = execute(circuit, backend)\n",
    "actual = job.result().get_unitary()\n",
    "print(\"Relative deviation: \", np.linalg.norm(actual - Uexpected) / np.linalg.norm(Uexpected)) "
   ]
  },
  {
   "cell_type": "code",
   "execution_count": 60,
   "metadata": {},
   "outputs": [
    {
     "data": {
      "image/png": "[encoded data removed]",
      "text/plain": [
       "<Figure size 1264.2x198.66 with 1 Axes>"
      ]
     },
     "execution_count": 60,
     "metadata": {},
     "output_type": "execute_result"
    }
   ],
   "source": [
    "drawer(circuit, style=my_style, output=\"mpl\")"
   ]
  },
  {
   "cell_type": "code",
   "execution_count": 61,
   "metadata": {},
   "outputs": [
    {
     "data": {
      "text/plain": [
       "24"
      ]
     },
     "execution_count": 61,
     "metadata": {},
     "output_type": "execute_result"
    }
   ],
   "source": [
    "circuit.size()"
   ]
  },
  {
   "cell_type": "markdown",
   "metadata": {},
   "source": [
    "This is already nice, but to reach what is usually called chemical accuracy, i.e. an error of less than $10^{-6}$ Hartree, we need a higher precision. Let us see how the number of gates and the deviation develop depending on the Trotter number."
   ]
  },
  {
   "cell_type": "code",
   "execution_count": 62,
   "metadata": {},
   "outputs": [],
   "source": [
    "maxTrotterNumber = 50\n",
    "trotterNumbers = range(1, maxTrotterNumber)\n",
    "gateCounts = []\n",
    "deviations = []\n",
    "t = 0.2\n",
    "for n in trotterNumbers:\n",
    "    q = QuantumRegister(2,\"q\")\n",
    "    c = ClassicalRegister(2,\"c\")\n",
    "    circuit = QuantumCircuit(q, c)\n",
    "    a = trotterApproximation(D2, circuit, q, t, n)\n",
    "    backend = Aer.get_backend('unitary_simulator') \n",
    "    job = execute(circuit, backend)\n",
    "    actual = job.result().get_unitary()\n",
    "    deviations.append(np.linalg.norm(actual - Uexpected) / np.linalg.norm(Uexpected))\n",
    "    gateCounts.append(circuit.size())"
   ]
  },
  {
   "cell_type": "code",
   "execution_count": 63,
   "metadata": {},
   "outputs": [],
   "source": [
    "import matplotlib.pyplot as plt"
   ]
  },
  {
   "cell_type": "code",
   "execution_count": 64,
   "metadata": {},
   "outputs": [
    {
     "data": {
      "text/plain": [
       "[<matplotlib.lines.Line2D at 0x7f21b6f1ee80>]"
      ]
     },
     "execution_count": 64,
     "metadata": {},
     "output_type": "execute_result"
    },
    {
     "data": {
      "image/png": "[encoded data removed]",
      "text/plain": [
       "<Figure size 720x720 with 1 Axes>"
      ]
     },
     "metadata": {
      "needs_background": "light"
     },
     "output_type": "display_data"
    }
   ],
   "source": [
    "##################################\n",
    "# Plot this                      #\n",
    "##################################\n",
    "fig = plt.figure(figsize=(10,10))\n",
    "ax = fig.add_subplot(1,1,1)\n",
    "ax.set_xlabel(\"Trotter number\",fontsize=20)\n",
    "ax.set_ylabel(\"Deviation\", fontsize=20)\n",
    "ax.plot(trotterNumbers, deviations)"
   ]
  },
  {
   "cell_type": "markdown",
   "metadata": {},
   "source": [
    "Finally, let us verify our Pauli decomposition using OpenFermion."
   ]
  },
  {
   "cell_type": "code",
   "execution_count": 65,
   "metadata": {},
   "outputs": [],
   "source": [
    "from openfermion.ops import QubitOperator"
   ]
  },
  {
   "cell_type": "code",
   "execution_count": 66,
   "metadata": {},
   "outputs": [],
   "source": [
    "########################################################\n",
    "# Convert a Pauli Decomposition in our format into     #\n",
    "# a Pauli decomposition in OpenFermion format          #\n",
    "########################################################\n",
    "def pauliDecompositionToOpenFermion(D):\n",
    "    N = np.shape(D)[0]\n",
    "    K = int(np.log2(N))\n",
    "    result = QubitOperator('',0)\n",
    "    for alpha in range(N):\n",
    "        for beta in range(N):\n",
    "            coeff = D[alpha][beta]\n",
    "            if coeff != 0:\n",
    "                str = \"\"\n",
    "                for i in range(K):\n",
    "                    if (1 == ((alpha > i) % 2)):\n",
    "                        str = str + \"X{} \".format(i)\n",
    "                    if (1 == ((beta > i) % 2)):\n",
    "                        str = str + \"Z{} \".format(i)    \n",
    "                result= result + coeff * QubitOperator(str)\n",
    "            \n",
    "    return result"
   ]
  },
  {
   "cell_type": "code",
   "execution_count": 67,
   "metadata": {},
   "outputs": [
    {
     "ename": "SyntaxError",
     "evalue": "invalid syntax (<ipython-input-67-c3b10977519a>, line 1)",
     "output_type": "error",
     "traceback": [
      "\u001b[0;36m  File \u001b[0;32m\"<ipython-input-67-c3b10977519a>\"\u001b[0;36m, line \u001b[0;32m1\u001b[0m\n\u001b[0;31m    check pauliDecompositionToOpenFermion(D2)\u001b[0m\n\u001b[0m                                        ^\u001b[0m\n\u001b[0;31mSyntaxError\u001b[0m\u001b[0;31m:\u001b[0m invalid syntax\n"
     ]
    }
   ],
   "source": [
    "check pauliDecompositionToOpenFermion(D2) \n",
    "print(check)"
   ]
  },
  {
   "cell_type": "code",
   "execution_count": null,
   "metadata": {},
   "outputs": [],
   "source": [
    "assert(np.linalg.norm(get_sparse_operator(check).toarray() - H2) < 10**(-12))"
   ]
  },
  {
   "cell_type": "code",
   "execution_count": null,
   "metadata": {},
   "outputs": [],
   "source": []
  }
 ],
 "metadata": {
  "kernelspec": {
   "display_name": "Python 3",
   "language": "python",
   "name": "python3"
  },
  "language_info": {
   "codemirror_mode": {
    "name": "ipython",
    "version": 3
   },
   "file_extension": ".py",
   "mimetype": "text/x-python",
   "name": "python",
   "nbconvert_exporter": "python",
   "pygments_lexer": "ipython3",
   "version": "3.6.7"
  }
 },
 "nbformat": 4,
 "nbformat_minor": 2
}
